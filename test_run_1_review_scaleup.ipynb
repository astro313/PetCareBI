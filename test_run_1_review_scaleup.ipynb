{
 "cells": [
  {
   "cell_type": "markdown",
   "metadata": {},
   "source": [
    "# Introduction\n",
    "State notebook purpose here"
   ]
  },
  {
   "cell_type": "markdown",
   "metadata": {},
   "source": [
    "### Imports\n",
    "Import libraries and write settings here."
   ]
  },
  {
   "cell_type": "code",
   "execution_count": 2,
   "metadata": {
    "ExecuteTime": {
     "end_time": "2020-06-04T13:19:23.686013Z",
     "start_time": "2020-06-04T13:19:23.317154Z"
    }
   },
   "outputs": [],
   "source": [
    "import matplotlib\n",
    "# Specify renderer\n",
    "# matplotlib.use('Agg')\n",
    "\n",
    "import warnings\n",
    "warnings.filterwarnings(\"ignore\")\n",
    "warnings.filterwarnings('ignore', category=FutureWarning)\n",
    "warnings.filterwarnings('ignore', category=DeprecationWarning)\n",
    "\n",
    "# Boiler-plate settings for producing pub-quality figures\n",
    "# 1 point = 1/72 inch\n",
    "from cycler import cycler\n",
    "matplotlib.rcParams['axes.prop_cycle'] = cycler(color='bgrcmyk')\n",
    "matplotlib.rcParams.update({\n",
    "    'figure.figsize': (8, 5)  # inches\n",
    "    ,\n",
    "    'font.size':\n",
    "    22  # points\n",
    "    ,\n",
    "    'legend.fontsize':\n",
    "    16  # points\n",
    "    ,\n",
    "    'lines.linewidth':\n",
    "    1.5  # points\n",
    "    ,\n",
    "    'axes.linewidth':\n",
    "    1.5  # points\n",
    "    ,\n",
    "    'text.usetex':\n",
    "    True  # Use LaTeX to layout text\n",
    "    ,\n",
    "    'font.family':\n",
    "    \"serif\"  # Use serifed fonts\n",
    "    ,\n",
    "    'xtick.major.size':\n",
    "    10  # length, points\n",
    "    ,\n",
    "    'xtick.major.width':\n",
    "    1.5  # points\n",
    "    ,\n",
    "    'xtick.minor.size':\n",
    "    6  # length, points\n",
    "    ,\n",
    "    'xtick.minor.width':\n",
    "    1  # points\n",
    "    ,\n",
    "    'ytick.major.size':\n",
    "    10  # length, points\n",
    "    ,\n",
    "    'ytick.major.width':\n",
    "    1.5  # points\n",
    "    ,\n",
    "    'ytick.minor.size':\n",
    "    6  # length, points\n",
    "    ,\n",
    "    \"xtick.minor.visible\":\n",
    "    True,\n",
    "    \"ytick.minor.visible\":\n",
    "    True,\n",
    "    'font.weight':\n",
    "    'bold',\n",
    "    'ytick.minor.width':\n",
    "    1  # points\n",
    "    ,\n",
    "    'font.serif': (\"Times\", \"Palatino\", \"Computer Modern Roman\",\n",
    "                   \"New Century Schoolbook\", \"Bookman\"),\n",
    "    'font.sans-serif':\n",
    "    (\"Helvetica\", \"Avant Garde\", \"Computer Modern Sans serif\"),\n",
    "    'font.monospace': (\"Courier\", \"Computer Modern Typewriter\"),\n",
    "    'font.cursive':\n",
    "    \"Zapf Chancery\"\n",
    "})\n",
    "\n",
    "import matplotlib.pyplot as plt\n",
    "%matplotlib inline\n",
    "%config InlineBackend.figure_format = 'retina'"
   ]
  },
  {
   "cell_type": "code",
   "execution_count": 3,
   "metadata": {
    "ExecuteTime": {
     "end_time": "2020-06-04T13:19:34.441959Z",
     "start_time": "2020-06-04T13:19:34.419571Z"
    }
   },
   "outputs": [],
   "source": [
    "# show several prints in one cell. This will allow us to condence every trick in one cell.\n",
    "from IPython.core.interactiveshell import InteractiveShell\n",
    "InteractiveShell.ast_node_interactivity = \"all\""
   ]
  },
  {
   "cell_type": "code",
   "execution_count": 4,
   "metadata": {
    "ExecuteTime": {
     "end_time": "2020-06-04T13:19:35.333364Z",
     "start_time": "2020-06-04T13:19:34.577714Z"
    }
   },
   "outputs": [],
   "source": [
    "import seaborn as sns\n",
    "sns.set_context(\"poster\")\n",
    "sns.set(rc={'figure.figsize': (16, 9.)})\n",
    "sns.set_style(\"whitegrid\")"
   ]
  },
  {
   "cell_type": "code",
   "execution_count": 5,
   "metadata": {
    "ExecuteTime": {
     "end_time": "2020-06-04T13:19:41.440329Z",
     "start_time": "2020-06-04T13:19:41.383065Z"
    }
   },
   "outputs": [
    {
     "name": "stdout",
     "output_type": "stream",
     "text": [
      "The autoreload extension is already loaded. To reload it, use:\n",
      "  %reload_ext autoreload\n"
     ]
    }
   ],
   "source": [
    "import sys\n",
    "import logging\n",
    "logging.basicConfig(level=logging.INFO, stream=sys.stdout)\n",
    "\n",
    "%load_ext autoreload\n",
    "%autoreload 2\n",
    "\n",
    "import numpy as np\n",
    "import scipy as sp\n",
    "\n",
    "# ML\n",
    "import sklearn\n",
    "\n",
    "import pandas as pd\n",
    "pd.set_option(\"display.max_rows\", 120)\n",
    "pd.set_option(\"display.max_columns\", 120)\n",
    "\n",
    "#Set the display format to be scientific for ease of analysis\n",
    "# pd.options.display.float_format = '{:,.2g}'.format"
   ]
  },
  {
   "cell_type": "code",
   "execution_count": null,
   "metadata": {
    "ExecuteTime": {
     "end_time": "2020-06-04T13:43:31.611296Z",
     "start_time": "2020-06-04T13:33:43.106Z"
    }
   },
   "outputs": [],
   "source": [
    "# NLP\n",
    "import gensim \n",
    "from gensim import models\n",
    "from gensim.models import Word2Vec\n",
    "import tensorflow \n",
    "\n",
    "import re, string \n",
    "import pandas as pd   \n",
    "from collections import defaultdict\n",
    "import spacy\n",
    "from sklearn.manifold import TSNE\n",
    "from nltk.corpus import stopwords\n",
    "STOPWORDS = set(stopwords.words('english'))"
   ]
  },
  {
   "cell_type": "code",
   "execution_count": 7,
   "metadata": {
    "ExecuteTime": {
     "end_time": "2020-06-04T13:19:50.539867Z",
     "start_time": "2020-06-04T13:19:50.492563Z"
    }
   },
   "outputs": [
    {
     "name": "stdout",
     "output_type": "stream",
     "text": [
      "No repo found\n"
     ]
    }
   ],
   "source": [
    "try:\n",
    "    import subprocess\n",
    "    gitd = os.path.abspath(os.path.join(os.path.dirname(__file__), os.pardir))\n",
    "    githash = subprocess.check_output('git --git-dir={0:s} --work-tree={1:s} '\\\n",
    "              'rev-parse HEAD'.format(gitd+'/.git',gitd),shell=True).rstrip()\n",
    "except:\n",
    "    githash = 'No repo found'\n",
    "\n",
    "print(githash)"
   ]
  },
  {
   "cell_type": "code",
   "execution_count": 8,
   "metadata": {
    "ExecuteTime": {
     "end_time": "2020-06-04T13:19:54.697979Z",
     "start_time": "2020-06-04T13:19:54.552122Z"
    }
   },
   "outputs": [
    {
     "name": "stdout",
     "output_type": "stream",
     "text": [
      "Thu Jun 04 2020 \n",
      "\n",
      "CPython 3.7.6\n",
      "IPython 7.13.0\n",
      "\n",
      "jupyerlab not installed\n",
      "numpy 1.18.1\n",
      "scipy 1.4.1\n",
      "sklearn 0.22.1\n",
      "pandas 1.0.3\n",
      "matplotlib 3.1.3\n",
      "\n",
      "compiler   : Clang 4.0.1 (tags/RELEASE_401/final)\n",
      "system     : Darwin\n",
      "release    : 19.5.0\n",
      "machine    : x86_64\n",
      "processor  : i386\n",
      "CPU cores  : 8\n",
      "interpreter: 64bit\n",
      "host name  : C02X61QTJHD5\n",
      "Git hash   : a945881b3f51b23983451f0cd2ade69e739a8412\n"
     ]
    }
   ],
   "source": [
    "%load_ext watermark\n",
    "%watermark -v -h -n -g -m -p jupyerlab,numpy,scipy,sklearn,pandas,matplotlib"
   ]
  },
  {
   "cell_type": "code",
   "execution_count": 9,
   "metadata": {
    "ExecuteTime": {
     "end_time": "2020-06-04T13:20:00.772074Z",
     "start_time": "2020-06-04T13:20:00.716162Z"
    }
   },
   "outputs": [
    {
     "name": "stdout",
     "output_type": "stream",
     "text": [
      "34\n"
     ]
    }
   ],
   "source": [
    "import glob\n",
    "# NYC_review_files = glob.glob('scraped_data_nodupl_biz/' + '1????_pet_*' + '_2020*.csv')\n",
    "# print(len(NYC_review_files))\n",
    "SF_review_files = glob.glob('scraped_data_nodupl_biz/' + '9????*csv')\n",
    "print(len(SF_review_files))"
   ]
  },
  {
   "cell_type": "code",
   "execution_count": 20,
   "metadata": {
    "ExecuteTime": {
     "end_time": "2020-06-04T13:26:03.357710Z",
     "start_time": "2020-06-04T13:26:02.012926Z"
    }
   },
   "outputs": [
    {
     "data": {
      "text/html": [
       "<div>\n",
       "<style scoped>\n",
       "    .dataframe tbody tr th:only-of-type {\n",
       "        vertical-align: middle;\n",
       "    }\n",
       "\n",
       "    .dataframe tbody tr th {\n",
       "        vertical-align: top;\n",
       "    }\n",
       "\n",
       "    .dataframe thead th {\n",
       "        text-align: right;\n",
       "    }\n",
       "</style>\n",
       "<table border=\"1\" class=\"dataframe\">\n",
       "  <thead>\n",
       "    <tr style=\"text-align: right;\">\n",
       "      <th></th>\n",
       "      <th>review_name</th>\n",
       "      <th>review_rating</th>\n",
       "      <th>review_date</th>\n",
       "      <th>review_text</th>\n",
       "      <th>biz_url</th>\n",
       "      <th>biz_rating</th>\n",
       "      <th>biz_name</th>\n",
       "    </tr>\n",
       "  </thead>\n",
       "  <tbody>\n",
       "    <tr>\n",
       "      <th>0</th>\n",
       "      <td>Emily F.</td>\n",
       "      <td>5.0</td>\n",
       "      <td>2020-03-20</td>\n",
       "      <td>We are so grateful for Dan, Natasha, Aaron, an...</td>\n",
       "      <td>/biz/dan-perata-dog-training-san-francisco?osq...</td>\n",
       "      <td>4.5</td>\n",
       "      <td>Dan Perata Dog Training</td>\n",
       "    </tr>\n",
       "    <tr>\n",
       "      <th>1</th>\n",
       "      <td>Kelly W.</td>\n",
       "      <td>5.0</td>\n",
       "      <td>2020-05-28</td>\n",
       "      <td>Dear DPT,\\n\\nJust wanted to reach out and send...</td>\n",
       "      <td>/biz/dan-perata-dog-training-san-francisco?osq...</td>\n",
       "      <td>4.5</td>\n",
       "      <td>Dan Perata Dog Training</td>\n",
       "    </tr>\n",
       "    <tr>\n",
       "      <th>2</th>\n",
       "      <td>Vicki L.</td>\n",
       "      <td>5.0</td>\n",
       "      <td>2020-03-31</td>\n",
       "      <td>My husband and I are very happy with the train...</td>\n",
       "      <td>/biz/dan-perata-dog-training-san-francisco?osq...</td>\n",
       "      <td>4.5</td>\n",
       "      <td>Dan Perata Dog Training</td>\n",
       "    </tr>\n",
       "    <tr>\n",
       "      <th>3</th>\n",
       "      <td>Chris D.</td>\n",
       "      <td>5.0</td>\n",
       "      <td>2020-03-19</td>\n",
       "      <td>Dan and Natasha make you and your pet feel lik...</td>\n",
       "      <td>/biz/dan-perata-dog-training-san-francisco?osq...</td>\n",
       "      <td>4.5</td>\n",
       "      <td>Dan Perata Dog Training</td>\n",
       "    </tr>\n",
       "    <tr>\n",
       "      <th>4</th>\n",
       "      <td>AdventureOrNothing K.</td>\n",
       "      <td>5.0</td>\n",
       "      <td>2019-09-17</td>\n",
       "      <td>This place and the trainers and staff are so e...</td>\n",
       "      <td>/biz/dan-perata-dog-training-san-francisco?osq...</td>\n",
       "      <td>4.5</td>\n",
       "      <td>Dan Perata Dog Training</td>\n",
       "    </tr>\n",
       "  </tbody>\n",
       "</table>\n",
       "</div>"
      ],
      "text/plain": [
       "             review_name  review_rating review_date  \\\n",
       "0               Emily F.            5.0  2020-03-20   \n",
       "1               Kelly W.            5.0  2020-05-28   \n",
       "2               Vicki L.            5.0  2020-03-31   \n",
       "3               Chris D.            5.0  2020-03-19   \n",
       "4  AdventureOrNothing K.            5.0  2019-09-17   \n",
       "\n",
       "                                         review_text  \\\n",
       "0  We are so grateful for Dan, Natasha, Aaron, an...   \n",
       "1  Dear DPT,\\n\\nJust wanted to reach out and send...   \n",
       "2  My husband and I are very happy with the train...   \n",
       "3  Dan and Natasha make you and your pet feel lik...   \n",
       "4  This place and the trainers and staff are so e...   \n",
       "\n",
       "                                             biz_url  biz_rating  \\\n",
       "0  /biz/dan-perata-dog-training-san-francisco?osq...         4.5   \n",
       "1  /biz/dan-perata-dog-training-san-francisco?osq...         4.5   \n",
       "2  /biz/dan-perata-dog-training-san-francisco?osq...         4.5   \n",
       "3  /biz/dan-perata-dog-training-san-francisco?osq...         4.5   \n",
       "4  /biz/dan-perata-dog-training-san-francisco?osq...         4.5   \n",
       "\n",
       "                  biz_name  \n",
       "0  Dan Perata Dog Training  \n",
       "1  Dan Perata Dog Training  \n",
       "2  Dan Perata Dog Training  \n",
       "3  Dan Perata Dog Training  \n",
       "4  Dan Perata Dog Training  "
      ]
     },
     "execution_count": 20,
     "metadata": {},
     "output_type": "execute_result"
    }
   ],
   "source": [
    "# df.columns = [\n",
    "#    'Ind', 'review_name', 'review_rating', 'review_date', 'review_text',\n",
    "#    'biz_url', 'biz_rating', 'biz_name', 'biz_phone', 'mon', 'tues', 'wed',\n",
    "#    'thurs', 'fri', 'sat', 'sun'\n",
    "#]\n",
    "\n",
    "def read_all_reviews_in_area(list_of_files):\n",
    "    for iii, fff in enumerate(list_of_files):\n",
    "        df = pd.read_csv(fff,\n",
    "                         usecols=['review_name', 'review_rating', 'review_date', 'review_text',\n",
    "        'biz_url', 'biz_rating', 'biz_name']\n",
    "                        )  # nrows=5, chunksize=1000000,\n",
    "                                    # dtype={\"country\":\"category\", \"beer_servings\":\"float64\"},\n",
    "                                    # na_values=0.0\n",
    "                                    # index_col=0, skiprows=1      # header\n",
    "        if iii ==0: \n",
    "            df_all = df\n",
    "        else:\n",
    "            df_all= pd.concat([df_all, df])\n",
    "    return df_all\n",
    "\n",
    "df_all = read_all_reviews_in_area(SF_review_files)\n",
    "df_all.head()            "
   ]
  },
  {
   "cell_type": "code",
   "execution_count": 22,
   "metadata": {
    "ExecuteTime": {
     "end_time": "2020-06-04T13:26:17.385200Z",
     "start_time": "2020-06-04T13:26:17.334380Z"
    }
   },
   "outputs": [
    {
     "data": {
      "text/plain": [
       "(106243, 7)"
      ]
     },
     "execution_count": 22,
     "metadata": {},
     "output_type": "execute_result"
    }
   ],
   "source": [
    "df_all.shape"
   ]
  },
  {
   "cell_type": "code",
   "execution_count": 23,
   "metadata": {
    "ExecuteTime": {
     "end_time": "2020-06-04T13:26:22.991043Z",
     "start_time": "2020-06-04T13:26:22.932191Z"
    }
   },
   "outputs": [
    {
     "name": "stdout",
     "output_type": "stream",
     "text": [
      "<class 'pandas.core.frame.DataFrame'>\n",
      "RangeIndex: 5 entries, 0 to 4\n",
      "Data columns (total 7 columns):\n",
      " #   Column         Non-Null Count  Dtype  \n",
      "---  ------         --------------  -----  \n",
      " 0   review_name    5 non-null      object \n",
      " 1   review_rating  5 non-null      float64\n",
      " 2   review_date    5 non-null      object \n",
      " 3   review_text    5 non-null      object \n",
      " 4   biz_url        5 non-null      object \n",
      " 5   biz_rating     5 non-null      float64\n",
      " 6   biz_name       5 non-null      object \n",
      "dtypes: float64(2), object(5)\n",
      "memory usage: 408.0+ bytes\n",
      "None\n"
     ]
    }
   ],
   "source": [
    "print(df.info())"
   ]
  },
  {
   "cell_type": "code",
   "execution_count": 24,
   "metadata": {
    "ExecuteTime": {
     "end_time": "2020-06-04T13:26:34.145647Z",
     "start_time": "2020-06-04T13:26:34.087768Z"
    }
   },
   "outputs": [
    {
     "data": {
      "text/plain": [
       "array(['Dan Perata Dog Training'], dtype=object)"
      ]
     },
     "execution_count": 24,
     "metadata": {},
     "output_type": "execute_result"
    }
   ],
   "source": [
    "# categorical\n",
    "object_cols = [col for col in df.columns if df[col].dtype == \"object\"]\n",
    "\n",
    "# find unique biz_name\n",
    "df[\"biz_name\"].unique()"
   ]
  },
  {
   "cell_type": "code",
   "execution_count": 25,
   "metadata": {
    "ExecuteTime": {
     "end_time": "2020-06-04T13:26:41.750250Z",
     "start_time": "2020-06-04T13:26:41.675024Z"
    }
   },
   "outputs": [
    {
     "name": "stdout",
     "output_type": "stream",
     "text": [
      "0\n"
     ]
    }
   ],
   "source": [
    "# check number of duplicatesa\n",
    "print(len(df[df.duplicated()]))"
   ]
  },
  {
   "cell_type": "code",
   "execution_count": 26,
   "metadata": {
    "ExecuteTime": {
     "end_time": "2020-06-04T13:26:46.150349Z",
     "start_time": "2020-06-04T13:26:46.096029Z"
    }
   },
   "outputs": [
    {
     "name": "stdout",
     "output_type": "stream",
     "text": [
      "review_name      False\n",
      "review_rating    False\n",
      "review_date      False\n",
      "review_text      False\n",
      "biz_url          False\n",
      "biz_rating       False\n",
      "biz_name         False\n",
      "dtype: bool\n"
     ]
    }
   ],
   "source": [
    "# missing val\n",
    "print(df.isna().any())"
   ]
  },
  {
   "cell_type": "code",
   "execution_count": 28,
   "metadata": {
    "ExecuteTime": {
     "end_time": "2020-06-04T13:27:20.334751Z",
     "start_time": "2020-06-04T13:27:20.217033Z"
    },
    "scrolled": true
   },
   "outputs": [
    {
     "data": {
      "text/plain": [
       "39    My big head Bruno loves going to Pet Camp!! As...\n",
       "39    Wag Hotel San Francisco supports Tubb fire vic...\n",
       "39    Finally getting around to writing my review! C...\n",
       "39    Wag Hotel San Francisco supports Tubb fire vic...\n",
       "39    Horrible experience with one of their vets. I ...\n",
       "39    Amazing staff who has saved our fur baby on ma...\n",
       "39    Nina is great! My pitbull is super energetic a...\n",
       "39    Wag Hotel San Francisco supports Tubb fire vic...\n",
       "39    I've been going to this place for years, and I...\n",
       "39    Wonderful, small intimate clinic for cats. My ...\n",
       "39    As I begin to travel more, I have grown concer...\n",
       "39    Amazing work! We have a very antisocial long h...\n",
       "39    We loved Erika but overall the experience was ...\n",
       "39    Great place to get a pet bird if you are in th...\n",
       "39    My big head Bruno loves going to Pet Camp!! As...\n",
       "39    My big head Bruno loves going to Pet Camp!! As...\n",
       "39    My big head Bruno loves going to Pet Camp!! As...\n",
       "39    We LOVE the Diggity Dog team!!  Donna and her ...\n",
       "39    Kate (Katherine) was A+. I was away for a week...\n",
       "39    Wag Hotel San Francisco supports Tubb fire vic...\n",
       "39    I heartily recommend this place as the facilit...\n",
       "39    Super convenient service, especially for those...\n",
       "39    The people who run this shop are wonderfully f...\n",
       "39    I could not be happier with my experience [wel...\n",
       "39    Really the best veterinary care I've found for...\n",
       "39    I am so happy we have these guys! They provide...\n",
       "39    Amazing work! We have a very antisocial long h...\n",
       "39    5 stars?! No 10 stars!!\\nThey doing super grea...\n",
       "39    Super helpful staff. We are in the process of ...\n",
       "39    I am so happy we have these guys! They provide...\n",
       "39    My big head Bruno loves going to Pet Camp!! As...\n",
       "39    5 stars?! No 10 stars!!\\nThey doing super grea...\n",
       "39    I trust and value Irving Pet Hospital. The Vet...\n",
       "Name: review_text, dtype: object"
      ]
     },
     "execution_count": 28,
     "metadata": {},
     "output_type": "execute_result"
    }
   ],
   "source": [
    "df_all.loc[df_all.review_text.str.len().min()].review_text"
   ]
  },
  {
   "cell_type": "code",
   "execution_count": 29,
   "metadata": {
    "ExecuteTime": {
     "end_time": "2020-06-04T13:27:41.355093Z",
     "start_time": "2020-06-04T13:27:41.301940Z"
    }
   },
   "outputs": [],
   "source": [
    "df = df_all"
   ]
  },
  {
   "cell_type": "code",
   "execution_count": 30,
   "metadata": {
    "ExecuteTime": {
     "end_time": "2020-06-04T13:27:41.776333Z",
     "start_time": "2020-06-04T13:27:41.705969Z"
    }
   },
   "outputs": [
    {
     "name": "stdout",
     "output_type": "stream",
     "text": [
      "We are so grateful for Dan, Natasha, Aaron, and the entire Dan Perata staff -- they are amazing and I recommend them to EVERYONE.\n",
      "\n",
      "Our puppy just went through Dan Camp -- and she is like a new dog. When we brought her in, we were struggling with her training. She had no on-leash skills, she was barking, having accidents...the list goes on. In just four weeks, we can take her on walks easily, she knows all of her commands, and easily sleeps through the night in her crate without any accidents. \n",
      "\n",
      "If you want results, all you need to do is come to Dan Perata and follow their recommendations. They invest in you and your dog, and if you do the work, they will make sure you have a great puppy coming out of camp. \n",
      "\n",
      "Lastly, they are professional and easy to work with on the operational side: scheduling additional boarding, grooming, checking-in...it's all simple and effective.\n",
      "\n",
      "I am so impressed by them. Thank you Dan Perata Training!\n",
      "---\n",
      "Dear DPT,\n",
      "\n",
      "Just wanted to reach out and send a special thanks to everyone at DPT and Dan (big time) for your persistence in working with me. Class yesterday was totally brutal, it felt like detention and I was exhausted at the end but I'm so grateful Dan keeps challenging me to be better with Beau. It was a breakthrough for sure, one of many I have experienced in this process. It brings a whole new meaning to tough love and I'm struggling to find the words to express the gratitude I feel. I knew this process would be a lot about training me, but I really had no idea what that meant in practice and I just want to thank you all for your honesty, compassion and thoughtfulness in everything you are doing for me and my pup. I am so thankful to have been connected with DPT and the awesome staff. Stay healthy, your work is so important.\n",
      "\n",
      "All my best,\n",
      "\n",
      "Kelly W.\n",
      "---\n",
      "My husband and I are very happy with the training results for our 5-year old rescue GSD. He no longer barks and runs at birds on leash (it had become dangerous for all of us) and his behavior overall has greatly improved. It was just as much learning for us as him. We made many important changes. All of the effort and time was very well spent. And great to know that we can go back for a refresher at any time. Dan, Aron and the entire time were wonderful to work with.\n",
      "---\n",
      "Dan and Natasha make you and your pet feel like family the moment you meet them. They tell ya how it is and that dog training takes work by YOU the owner. Their philosphy makes sense and works. You just have to comply with the homework. I've seen dogs during training sessions at various levels of the training process. The dogs showed restraint, intently listening and followed their owners commands with no problems. It's amazing. Although our baby boy Rocco still needs work, he'll get there... he needs consistency (from us the owners). Natasha is always accomodating and never turns us away when we need boarding - Love her! Dan & Aaron are great instructors. They tell ya how it is and how to do it better! I like the tough love and learning...2 thumbs up for Dan, Natasha and crew. Check them out.\n",
      "---\n",
      "This place and the trainers and staff are so excellent. My Maltese, Honor, is 9 lbs of stubborn fluff and before we started Dan Camp, he knew vaguely what I meant by basic commands, but just decided on his own that he wasn't going to do it. I took him to training classes when he was super small at a pet supply store (don't do that, go to a professional). He had never come over after being called in his life and 'stay'? \"No nooooo no no, I'm coming with you! :D Where are we going? Let's hang out every second of every day forever!\" - Honor, every time. All of that was annoying but hey, he's 9 lbs. Whatever, I'll pick him up and move him if I tell him to do something and he doesn't do it. (Bad idea. It gives you the laziest/most manipulative pupper ever.) It was the barking that finally did me in. \n",
      "\n",
      "Ok, if you're trying to do something about your dog's severe separation anxiety because your neighbors are pissed, let me tell you, Honor screamed at the top of his lungs. Was someone murdering him? You would sure think so standing just outside my apartment door. I was nearly evicted over his barking/crying/howling. I took him to Dan Perata Dog Training and the result was really amazing. His basic commands are sooooo much better and he even comes when you call him. Thankfully, the barking/crying/howling is infinitely better too. It's not a miracle--you need to put in the work and give it time--and he's not perfect yet (it's only been a few weeks to try and cancel out almost five years of him walking all over me) but I'm really seeing him turn the corner and it's such a relief. \n",
      "\n",
      "I'm optimistic about Honor's behavior changing for the better and I really recommend you give this training facility a try if you're at the end of your rope. They're an incredible operation and in the weeks I've been there I've seen them working on every kind of breed with every kind of problem. Whatever's going on with your dog, it'll get better.\n",
      "---\n",
      "Without Dan Perata Training, I would not have been able to keep my dog Nelson. \n",
      "I had rescued Nelson in October, and after a couple of weeks, I would come home from work to find he had pried his way out of his steel crate or that he had torn up doorways to the point where I could literally see blood on the walls from him trying so hard to escape. I tried leaving him loose in the house but he would bolt every time I opened the front door. Nelson was anxious all the time and compulsively chewed on himself. After a few weeks of this, I had come to the conclusion that a) Nelson needed an owner that could work from home and not leave him alone and b) I was totally ill-equipped to deal with this behavior issue as none of the tactics I could find online were working. This realization absolutely broke my heart and I was desperate to try and make it work with Nelson as he had been abandoned several times before making it to my home. After reading reviews on Yelp and finally feeling some hope, I was positive that even if I couldn't keep Nelson for myself, I could at least put him in a better position for his next home.\n",
      "Within 5 minutes of meeting Dan and seeing him interact with Nelson, I could tell that Nelson would respond to the training and I could hope for some improvement. What it really comes down to is the work that you are willing to put in for your dog. For the next 4 months, I came for lessons 3 to 4 times a week after work and spent all my time with Nelson at home reinforcing and practicing techniques on weekends and weeks off camp. \n",
      "Honestly, even after all that I can hardly believe the difference I see in Nelson. I'm able to leave him at home, alone, for over 8 hours without a worry or second thought--which even in the best case scenario I didn't think would happen. He very seldom chews on himself. His personality is finally coming out because he isn't terrified all the time and he is so calm and sweet and happy. He's literally the best companion and I am so, so grateful to have him in my life. Investing in Dan Camp for him is by far one of the best decisions I've ever made.\n",
      "There aren't words to express how I feel towards ALL the people involved at DPT. I owe them everything after all the work and love they've given to Nelson. I came to them for help when I was at my most desperate, and they never quit on me or my dog and they never took advantage of that desperation-- they were equally invested in Nelson overcoming his separation anxiety and that is the only reason I get to keep my dog.\n",
      "---\n",
      "We tried the drop in classes and we gave it several tries. It just wasn't a good match. The owner Dan is just far too aggressive for such young dogs. This company only has its rating because it requests yelp to remove most negative reviews. In the negative reviews you will have testimonials of the owner Dan stepping on a poor little dogs foot to \"teach\" the dog not to jump. Him snapping the leash and neck of a dog he is waking to \"teach\" it to obey him.  Do yourself a favor and Choose one of these businesses instead: Premier K9 dog training, Dog secrets boot camp, bark busters and one day dog training. I have been to all but 1 of these and they are great resources and far better than this awful camp that inspired this review. \n",
      "\n",
      "I'm going to be intentionally obscure in this review as far as identity of \"the person\" that interacted with Dan and the ladies(staff) and the other abusive trainers because they have a history(also in a later review) of posting the full name and contact info of people who review them negatively. (It's in these reviews but they edited it out, look for it)\n",
      "\n",
      "\n",
      "****this company has its rating in part because they get negative reviews removed. Read the comments about how they \"crate train.\" It's just so heartbreaking. Don't give them your money if you believe they will hurt your dog please..****\n",
      "---\n",
      "I was hoping to wait until our puppy completed her puppy training at Dan Perata Training before posting a review but I don't think that our  dog is going to graduate her puppy training for a bit, and that's OK with me. \n",
      "I should at least give my review sooner rather than later since the work that is happening with our dog as a result of Dan Perata Training thus far has been remarkable.\n",
      "\n",
      "First, let me give you a little bit of background on this puppy of ours.\n",
      "\n",
      "Let's start off with a few of her nicknames:\n",
      "Robie the Rocket. The Pecorino Cheetah. Pop Rocks candy on a leash.\n",
      "Do you have a picture in your mind? OK, now magnify that hyper energy x 10.\n",
      "\n",
      "We were warned (several times actually) by the staff at the dog rescue that this 10 week old puppy we were about to bring home had a fluorescent orange collar on for a reason. She was never to be left alone because she was an escape artist. She was wily and rambunctious. \n",
      "We were also told that she didn't just bark like normal puppies. This was more like a shriek that made you want to duck and cover.\n",
      "\n",
      "Our new puppy had also been returned recently by another person. *Ouch* Returned like a bad Christmas sweater? That was so sad. And that just made me want to get her more of course.\n",
      "Oh but she was so cute we thought. How can this be such a challenge? How dumb we were.\n",
      "\n",
      "Then came the first night with our first puppy. Oh-Dear-Lord! \n",
      "My husband and I just stared at each other blankly the next AM with sleep crusted eyes. We also apologized to our neighbors on either side of us. Yep really.\n",
      "\n",
      "Thankfully we used Dan Perata Training some years ago for our beloved dog Olive who had passed away last year, and the co-owner Natasha offered to put our new puppy Robie into their Puppy Camp immediately to get her on track to be a fantastic dog.\n",
      "\n",
      "That tsunami siren shriek thing that our new puppy did? Well Dan Perata's puppy trainers nipped that in the bud immediately. Oh we were just so happy about that one - and our neighbors too. They took care of that within the first few days of training. So impressive!\n",
      "\n",
      "My husband and I noticed big changes immediately with our Redbull level energy puppy Robie. Basic commands were really starting to work.\n",
      "\n",
      "Then the non-stop growing kicked into overdrive and Robie started pushing her boundaries. She started lunging at me and generally acting out. Open communication is welcomed with the Dan Camp Trainers, so when we let them know what was going on they addressed Robie's issues immediately and reassured us that she'd get past this. As of today she has made great progress with her behavior and is no longer lunging at me either. Yeah!\n",
      "\n",
      "Here is the most important part that I'd like to stress: the humans need to do the homework. Yes, there really is homework for Dan Perata Training. You will get an email like clockwork every week. Don't expect your puppy to come home as a miraculously changed four-legged furball since you will play a role in this transformation as well. \n",
      "\n",
      "And oh my goodness Dan can tell within five seconds if you are not doing your homework. Yep we've been busted a few times. Sometimes I think he speaks Dog. Oh wait, yes he can. And our animals totally gossip about us to him!\n",
      "\n",
      "Sending your puppy to some pet store training group will likely end up a disaster for both you and your puppy and be a complete waste of money. You need to get involved. Trust me. When I have questions about certain commands or something that my dog is doing, I know that I can call or email. Someone responds with just the info I need. \n",
      "\n",
      "Who could you call from one of those once-a-week play date style pet store training classes with questions anyway? I haven't a clue. And how would they respond, with a cat treat coupon? \n",
      "\n",
      "Dan Perata Training will schedule classes for you and your puppy, but in a more focused setting at their facility. All of the dogs love the trainers too. They must bathe in bacon-??\n",
      "\n",
      "So get your puppy or full grown dog into Dan Perata Training. They are phenomenal. Just know that YOU will need to be a part of the training ride as well. You will get a bit of homework on the weekends. It takes 5 minutes. No biggie. Just do the reinforcement work at home OK? \n",
      "\n",
      "Don't untie the beautiful bow of hard work and training that the DPTrainers are putting into your dog.\n",
      "\n",
      "Our puppy is not yet finished with her training so I will update this soon. As I mentioned in the beginning of this review, our rocket fuel level energy of a pupperoo is a bit of a challenge, and I am a bit disabled which complicates things.\n",
      "We still need a bit of work with training (both human and canine) and energy level control (just canine). Ha.\n",
      "\n",
      "-S\n",
      "---\n",
      "I have been taking my baby boy to Dan Perata since Chico was 9 months old.  He was rejected from two previous Daycare facilities,  because he is  a pit bull. If they only knew Chico was simply born to love and Dan Perata accepted Chico with open arms, the best part is seeing his tail wag as soon as I turn the corner, makes me feel good to know he is with his second family  Thanks for loving my boy.\n",
      "---\n",
      "I can't recommend them enough! Our son Stewart needed some serious help with extreme dog aggression problems. We couldnt walk on the other side of the street without Stewart lunging, barking, and trying to attack other dogs. It was really heart breaking because stewart is such a sweetheart inside the house. Now after taking their 5 day a week for 6 week boarded training course i can happily say Stewart has none of those issues anymore! It is amazing what they have helped Stewart become. He is more at ease, and more himself. We take him everywhere now, dog parks(still leashed), dinner, cafes, beaches, you name it. We even have had dogs run into without any problems. The knowledge that Dan, Aaron and everyone else has is extremely precious and well worth whatever cost it may be. I feel like i have the dog that i knew he could be now, and i couldnt be anymore proud. They also let you extend the training periods FOR FREE if you need more time in their training camp. They also allow you to keep up with socializing you dog indefinitely on their drop in classes. Anyone giving them a bad review probably wasnt doing the work. Dan Perata training is in so many ways a magic place but if are expecting not to put in some serious time and energy to help your dog its not the place for you. If you dont help keep up with the regiment you arent doing your dog justice. Its really important to keep up with what they are teaching you. I would say most of the learning is for you to teach to your dog. Going in as much as possible to learn how to guide your dog to become your perfect companion is really important. I exaughsted a ton of time trying to help Stewart, and for what was a relatively short period in the lifespan of my dog, it was so incredibly worth it! They totally improved every aspect of Stewarts life and our relationship with our dog. Thank you so much guys!\n",
      "---\n",
      "I cannot recommend Dan and his team highly enough.  Their process flat out works, their staff goes above and beyond, and they make good on their promises. Period. \n",
      "\n",
      "I adopted a 1yr lab mix that had been physically (with scars to match) and emotionally abused.  When I got her, she was completely emotionally shut down and extremely fearful of EVERYTHING.  I was the 4th person to try and adopt her.  Having had dogs all my life and rescued in the past, I thought I was equipped for the challenge.  I was completely wrong and in over my head.  I called the majority of recommended dog trainers in the Bay area and Dan's training program was the only one that resonated with me (affection based training, no shock/choke collars, etc.) and set up a consultation.  After the consultation Dan pulled me aside and recommended full Dan Camp and let me know that my dog was going to need extra time.  Dan camp is a 4-6 week or until complete, intensive training program where they train your dog and more importantly YOU.  My dog and I were on the \"or until complete\" end of the spectrum due to all the abuse and neglect she received.  We stayed in Dan Camp for weeks after the original 6 weeks at NO EXTRA COST.  \n",
      "\n",
      "Before Dan Perata Dog Training, I had a dog that had:\n",
      "-Extreme fear of people, new places, loud noises, petting etc.\n",
      "-Would run away any chance she could get\n",
      "-Was completely shutdown and unresponsive\n",
      "\n",
      "After, my dog:\n",
      "-Gets constantly complimented on how sweet and well behaved she is\n",
      "-Is walked almost entirely off leash with voice commands \n",
      "-Has 100% responsiveness\n",
      "-And most importantly is Happy \n",
      "\n",
      "If you check your ego at the door, buy into the program, and do the homework you are going to see great results.  \n",
      "\n",
      "Not only is Dan and staff extremely professional, they are great people. You will enjoy your time and learn a ton!\n",
      "---\n",
      "Dan and his team made raising a small breed puppy while working full time possible and much more enjoyable. They prevented problems and behavioral issues I've had with past dogs before they ever happened! (Crate training and potty training issues, separation anxiety, barking, poor leash walking etc). Dan really understands dog behavior and the human-dog connection. I've had a wonderful experience working with him, his team, and his wife Natasha. Best thing you can do to have a happy and well behaved dog!\n",
      "---\n",
      "I don't know how to begin to thank Dan, Natasha, Aaron, and the entire team here. Not only are they incredible people, but they're the best in the business. If you follow Dan's advice and consistently work with your dog, you WILL get results. I really cannot recommend him enough. I live in Santa Cruz, and happily make the drive to SF to spend time with Dan and his team.\n",
      "\n",
      "My partner and I adopted our dog, Zooey, about a year ago from a family member who could no longer care for her. Zooey was 7 years old when we took her in. She absolutely loves people, but was never properly socialized with other animals. This posed a big problem... we have a cat. I thought I was up for a challenge, but I had no idea it would be so difficult. Every time she'd see another dog or our cat, she would get hyper-focused and completely stop listening to us. Her entire body would tremble, she'd lunge, whine, bark, and chase. She was aggressive. We tried to correct this behavior ourselves and quickly realized that wasn't going to happen. We hired a trainer to come to our house, but saw no change. In fact, we were told we'd probably just need to get rid of her. I was completely devastated.\n",
      "\n",
      "Then I heard about Dan. I was told he's the best trainer around, especially for aggressive dogs. I was skeptical but gave Dan a call. After one phone call, I was intrigued. After our first in-person session, I was convinced he'd be able to help us. As many have said here, what Dan accomplished in a 1 hour session was incredibly impressive. Now, I can easily say that my friend was right; Dan is THE BEST dog trainer, hands down. He has changed my life. He's changed Zooey's life. She is so much happier, more playful, and listens to us now! She can be in the same room as our cat and will not lunge, whine, bark, or immediately chase! She actually listens when we tell her to \"leave it\". She's not perfect or nailing this 100% of the time yet, but I cannot begin to express what a change this is from when we first got her. It is night and day. And she's continuing to show improvement.\n",
      "\n",
      "The other night, a very large dog I've never seen before walked onto our deck when I was outside with Zooey. I immediately feared the worse. If this was a few months ago, Zooey would have ran after the dog and there would have been a fight. She would have bitten the other dog, I just know it. Instead, she remained calm, let the dog sniff her, she sniffed back, and then she let me put her in the house. I was SHOCKED! I'm still shocked, days later.\n",
      "\n",
      "Dan and Natasha, from the bottom of our hearts, THANK YOU!!! Mike, Zooey, and I are forever indebted to you.\n",
      "---\n",
      "My fur babies have been boarded here when we travel for the past 6 years.  Dan and his staff are gold.  I always come home to happy well taken care of pups.  The fur kids actually get excited to see the staff!!  If you are like me, your dogs are your kids, so I probably should have written this years ago.  I wouldn't take them anywhere else.\n",
      "---\n",
      "I met with Dan and Natasha today and enrolled my puppy, Sassy into their camp. In the consultation, Dan was very informative and pointed out some important things that I was doing  and while we were talking, he started showing me techniques with Sassy that will help.  \n",
      "I am looking forward to learning from Dan and his team to teach Sassy and carry that knowledge with me to train my other dogs and help my clients dogs while they are in my salon for grooming. \n",
      "Thank you Natasha and Dan!  Can't wait to start this journey.\n",
      "---\n",
      "This is a long-overdue review of DPT. My dog, Chella, first started Dan Camp in early 2018. She has always been a happy and non-aggressive dog, but she would become extremely fearful around new humans/dogs and had zero boundaries at home. I saw Chella's confidence growing with each week that she spent at Dan Camp. I also feel so much more in control now (e.g., waits to be invited onto the bed/couch instead of acting like she owns the place). Dan Camp enabled me to master more commands (sit, lay down, wait, come, leave it) with Chella because she actually listens to what I'm saying. When I travel and if my family is not around, DPT is the only place I trust for boarding. \n",
      "\n",
      "I would recommend DPT to *anyone*. Dan, Natasha, and their team are incredible and have extremely unique abilities to connect with dogs. My only regret is that I didn't start DPT a year earlier. :)\n",
      "---\n",
      "Long Due review: Dan Perata and his team are the ONLY professionals I trust to take care of my complicated combo of my hyper-anxious-anti-social-not-friendly-complicated-unstable-fearless rescue and my super sensitive crazy frenchie. They have always demonstrated excellence, precious knowledge, skills and professionalism. Both my dogs have been to Dan's camp, used boarding and day cares multiple times, and I have not been disappointed in almost 4 years now. They have helped me beyond my expectations. Yes, it's expensive, but having peace of mind is priceless.\n",
      "---\n",
      "This is the best place to take your dog if you want your dog and yourself to be well trained.  The trainers understand both the dogs and the owners.  That can be uncomfortable for the owners, because we don't know how to do this and we all make mistakes with our dogs.  But the staff are professionals who will guide both you and your dog toward good, social behavior.  The dogs respond so well to the environment and the care and training they receive.  I put my puppy through the 6-week training course and it was the best thing ever for him. (My sister, the vet, told me it would be!)  He learned how to behave, and I learned how to get him to behave.  It has made him a safe and happy dog.  He trots in wagging his tail when we go back for refresher classes or boarding.\n",
      "---\n",
      "We sent our \"batshit crazy\" Yellow Lab to Dan Perata last year and it changed our life forever. I would have paid double knowing how amazing our dog is today because of DPT. He had always been the sweetest, but our main issues were boundaries, impulse control, walking on leash and just overall craziness. Our dog had been walking all over us for about a year and thanks to DP and his team we were able to regain control and change our relationship with our dog for the better.\n",
      "\n",
      "Our dog now: 1 year later, our dog walks ENTIRELY off leash through the streets of San Francisco. He passed the Canine Good Citizen Test, the Canine Good Citizen Urban Test, AND the Canine Good Citizen Advanced Test with flying colors. He keeps a perfect heel, walks through crowds, crosses the street, ignore any and all distractions and spends every moment looking at me. He stops the moment we stop, can follow us while we bike....off leash, all the time. We don't even need to worry about him staying at our heel because we know he never breaks it. It all started with perfecting the walk and the other rules that DPT establishes. It is so impressive, that even we still cannot believe it.  We just had to change our relationship with our dog and follow all the rules, forever...not just for the 6 weeks of Dan Camp!\n",
      "\n",
      "It is important to note that you get what you put in: you can't just send your dog to DPT and not put in any extra work and expect your dog to be perfect.  Its important to follow ALL the rules even at home, outside, ect and to continue working with your dog even once it goes home. We do know some people who's dogs have not ended up as \"perfect\" as they wanted but that is because they didn't continue with the training after the dog's were done with Dan Camp.\n",
      "\n",
      "We don't even know where to begin with how amazing our experience was....\n",
      "\n",
      "1. Dan and his team love these dogs : Sure they are strict and set boundaries but we learned very quickly that you can be \"tough\" while still loving and caring for your dogs as part of the family. Our relationship with our dog is better because of it. Dan is honest & frank but he is right - and its important to remember how much he cares about the dogs. Dan works hard to help rehabilitate aggressive dogs that many trainers wouldn't even consider - he is willing to take bites (many times) to help these dogs get back on the right track.  Even though this wasn't a problem we were dealing with, we could tell how devoted the team was to making sure all dogs had a chance at a fulfilling life.\n",
      "\n",
      "2.  Our dog loved Dan & his team: We worried about leaving him in board and train at first but after a week we realized how much he loved it there. He was as excited to go to DPT as he was to go to the beach.  He still is when we send him back for boarding when we are out of town.\n",
      "\n",
      "3. We received unlimited support: After paying the one time fee, the team was available to help us everyday whenever we had questions. We went in person while he was at camp 1-2 times per week and then continued for about 6 months after camp. \n",
      "\n",
      "4. Our dog was not \"broken\", he just became the best version of himself: A lot of people ask me if strict training breaks the dog's spirit - this couldn't be further from the truth.  Our dog is more confident, mellow, even more affectionate than ever before. He's so much more pleasant to be around while still having the great personality that we've always loved about him. We think that all dogs can benefit from DPT.  \n",
      "\n",
      "We can't thank the team enough for all they have done for us. We recommend them to everyone who asks us how we got our dog to behave so well.\n",
      "---\n",
      "My 1.5-year-old​ Brittany​ Spoodle has a super chill temperament​ and has never given me much trouble...except when it comes to recall off leash. Dan was able to point out some key behavioral things​ I​ was doing that were hindering her obedience​ off leash. His advice was tailored specifically​ to us, and I saw results very quickly​. I would recommend​ him to anyone​ dealing with the smallest to the largest​ of training issues. Just remember, it's not the dog... it's you. ;-)\n",
      "---\n",
      "Our dog Liv loves Pet Camp so much. We can drop her off knowing she will have so much fun. Both overnight and just during the day. Quick drop off/pickup and such friendly staff. Big space, lots of play. Highly recommend! Please support during this crazy time!\n",
      "---\n",
      "Mavrick and I absolutely love Pet Camp! Everyone is so friendly and helpful and after we had a poor experience somewhere else, the people at Pet Camp put my mind at ease and took amazing care of my shepherd mix.\n",
      "\n",
      "For example: I loved that after the previous boarding facility wouldn't allow me to see the layout or type of space my dog was staying in, escaping from, and getting injured somehow without my knowledge until the VCA called me in the middle of the night, Pet Camp offered to give me a tour of whatever I wanted to see so I felt comfortable. Needless to say, I've never had to worry about Mavrick being uncomfortable, escaping his accommodations at night, being injured or neglected ever again at Pet Camp!\n",
      "\n",
      "The pick up and drop offs are awesome and I love the \"camper cameo\" photos they take. The campground has amazing amenities and their attention to safety and comfort of all the pets in their care is the hugest plus for me. I would trust no other boarding facility and staff in the city with my Mav! \n",
      "\n",
      "Thank you Pet Camp. We love you guys!\n",
      "---\n",
      "We had a pretty underwhelming experience with them. The reviews looked great and they seemed professional when I toured. I will say our dog seemed like he was having a good time in the daily picture upload. \n",
      "\n",
      "What was super frustrating was when we got our dog back. We arranged for a 7-9am pet taxi drop off and a bath before he came home. I had decided to wait at home for the drop off and then head to work. As 9 o'clock came and went I repeatedly called pet camp and it kept going to voicemail. When I finally got a hold of someone they told me that they were busy not answering the phone because \"it was a holiday weekend\"  - odd response. \n",
      "\n",
      "They were incredibly unconcerned with him not arriving on time and were not able to give an ETA. I finally insisted they phone the pet taxi driver and was told they were \"around the corner and he was next for drop off\". He finally arrived just after 10 am. \n",
      "\n",
      "I met the driver outside and our all white dog was completely yellow - head to toe. I'm assuming from the dirt in the play area. Obviously, totally fine for him to get dirty while playing but the point of arranging the bath was to not bring a filthy dog into our home. \n",
      "\n",
      "I asked the pet taxi driver, now over an hour past the drop off window, why our dog was still yellow and dirty and she said \"he's still wet so he looks different\" as she rushed off. So yes, of course our dog looks different when he's wet but he's not yellow... so here I am,  very late for work, with no choice but to leave with a dirty dog in the house - great way to start the week! \n",
      "\n",
      "I called to express my disappointment with how the morning had gone but true to form - no one answered the phone. Eventually, someone called and offered to refund the pet taxi charge and the bath. For us, it's not about the $50, it's about having a clean dog, dropped off timely as arranged. \n",
      "\n",
      "Here's the kicker - the woman I spoke with also mentioned that we had been overcharged $40 (we hadn't noticed) and refunded that too. How that happened, I don't know. Glad she mentioned it and corrected, but Lordy. \n",
      "\n",
      "All this rant to say, the dogs seem to have a nice time but the business side of this place is an absolute dumpster fire\n",
      "---\n",
      "Our dog was bitten twice by another dog and came home with several open wounds on her. The counter staff tried to play it off as \"rough housing at playtime\" but I'm not so sure. The wounds still are open and bleeding two days later. \n",
      "\n",
      "Taking her to the vet tomorrow to make sure there's no infections. We won't be bringing our dog back to Pet Camp again.\n",
      "---\n",
      "Regrettably this was a troubling experience.  We used Pet Camp for the first time on a neighbor's recommendation for our lovely 8-year old terrier.  We gave clear care instructions and paid for a VIP package for more individualized care.  \n",
      "\n",
      "Our dog came back with a still-fresh nasty gash on her shoulder and a UTI.  To her credit, Pet Camp's manager did a diligent investigation into our dog's injury, but could not explain it.   The wound was not self-inflicted and (accordingly to Pet Camp) not caused by another dog.  Frankly, that leaves only troubling options.   Pet Camp offer no refund, or even an accommodation.\n",
      "\n",
      "Leaving your dog at a kennel is a trust exercise, and Pet Camp fundamentally let us down.  Despite having a mobile app and marketing itself as providing top level care, we received no photos or updates during our pet's five-day stay.  And, worst of all, our dog came back injured.    \n",
      "\n",
      "Based on my experience, I strongly suggest you look elsewhere for care.\n",
      "---\n",
      "These guys always take such good care of my pets. My dogs get so excited every time I bring them over. The staff knows them by name even if it's been a long time since they've been there. The staff takes photos of the dogs and keep me updated if I call. They're good at keeping to regiments like medicine and food.\n",
      "---\n",
      "My dog has been to dog day care and boarding for years when I lived in DC, so she's no stranger to doggy day cares/boarding. She used to hop out of the car with exuberance when she went to her old dog boarding place.\n",
      "\n",
      "During the three times I took her to Pet Camp, after the first visit, I noticed had her tail between her legs and she didn't seem to want to go. Plus, she smelled like pee every time she came home, meaning that she must have soiled herself at some point.\n",
      "\n",
      "Between my dog being anxious about going there, coming home smelling like pee, to getting dog flu and me not being notified of a flu outbreak in their facilities--the straw that broke the camel's back is that I found out that they forgot to give my dog her meds.\n",
      "\n",
      " I'm never taking her back here. I'm not trying to take away from others' positive experiences, but if you love your dog, I highly recommend evaluating ALL your options in the Bay Area. I'm sad I subjected my poor dog to this.\n",
      "---\n",
      "It's just like most other places you bring your pets to. They have dogs that come regularly and also staff brings their own dogs. Those are the dogs you will see in all the photos and videos. I had my dog there for a long weekend and over those days did only see my dog in a swing-by of one of the hundreds of videos and photos. Makes me wonder if they had him even out of his cage/crate. I really don't care about having my dog in videos and photos but since they promise it and also just have a large amount of photos/vids on Instagram it kinda seems strange to me to not see certain dogs in any of them. \n",
      "\n",
      "Aside from that I also ordered a wash and nail trim and after I picked up my dog, once out of the car I noticed blood in the car. They cut one of the nails quick quite deep and it bled for an hour. I know that stuff can happen but not telling me is not cool I think. \n",
      "\n",
      "It looks like a cool place for dogs. Just make sure your dog isn't too big and you bring him often otherwise you'll never know if they actually play/treat your dog for what you pay.\n",
      "---\n",
      "This is a horrible place. I've used many times since, sadly, there are not many options available. \n",
      "\n",
      "I've left my dogs before with very clear instructions of the kind of dogs they should not be allowed with, only to see them later at their website with precisely those dogs. \n",
      "\n",
      "I've given them a simple towel or t-shirt to put within my dogs' crate when they sleep, only to find it still wrapped and untouched when the dogs are returned. How difficult is it to just toss a t-shirt in the crate? Then they have the nerve to lie and say it's wrapped 'because it's been washed', which is absolutely false since you can clearly see the paper nametag stuck to it (which I put), completely undamaged by water. \n",
      "\n",
      "I've had my dogs returned to me with lumps and kennel cough. When I made the mistake of ordering a 'wash' or nail trim, it was abundantly clear neither had happened. Make sure you wash your dog when you get them back because they smell foul. \n",
      " \n",
      "On top of that, they overcharge you all the time. Make sure you carefully review your invoice (which they don't really provide by default, good luck getting it), and spot the unrequested services or extra activities they have charged you for.\n",
      "---\n",
      "I have been calling this place everyday for a week to inquire about pet training.  Not once has a physical person picked up the phone.   When I left a voicemail,  they didn't even call back until a day later.  \n",
      "\n",
      "How the heck and I'm supposed to ever trust this business with my beloved dog when there is so much communication silence and obvious inadequate staffing to pick up a phone call from a CUSTOMER who wants to give you MONEY!?  \n",
      "\n",
      "I only kept calling for a week because this place is close to my job, but I'm giving up and looking farther for a responsive place with a \"staff\" to run the business properly.  I imagine all the dogs are neglected here.\n",
      "\n",
      "Update 06/11/19: \n",
      "\n",
      "In response to the owner's comment, I called much more than the 3 times you noted.  You didn't account for my calls from my work phone also.  And I didn't leave multiple voicemails because I shouldn't be chasing after you to give you my hard earned money.  While I appreciate your voicemails and yelp response to speak with me further, I have already decided on another venue who picked up my call on a first try.\n",
      "---\n",
      "I would like start by saying this camp looked good from all the positive reviews. Everyone there seemed very nice. But I never thought that after leaving my dog there for 2 weeks she was going to come out with kennel cough. Apparently all dogs there need to be up to date with there shots or they can't stay. My little one who is 10 years old had all her shots before entering, now I need to bring her to the vet, I haven't seen her for 2 weeks and now sadly she is sick. This is horrible. Not sure how this happened but now I need to isolate my little one from my other little one because of this. I will pay all the money I have to have her better but like I shouldn't have to go through this I left my dog apparently in good hands I thought I was going to get her back like I brought her in and that did not happened. All I got to say is be careful bringing your loved ones here.\n",
      "---\n",
      "Overall my experience was good. Great group of folks, friendly. The facility looked great and they are growing. The reason I give it 3 starts was 2 factors. 1) the onboarding has some hiccups. I had to play phone tag a few times before I got to the right department. After calling the mainline I was given the option to schedule a call back. When I got the call back, which was later then the window of time I was given, I got transferred to the reservation line. To which I had to leave another message to get them to call me back. I felt bounced around for no reason. 2) my dog came home with fleas. Note that he is on a good flea and tick medicine and has been for several years. I spent the next weekend flea bombing my home and washing 6 loads of bedding and rugs. \n",
      "This was after he was supposed to have gotten a bath from them. \n",
      "I'm sure boarding  your dog is like taking your kid to camp, eventually they will come home with bugs. But it was the first time I've used a boarder service and it has left me a little gun shy to use again. flea bombing is time consuming and stressful. Will I have to do this everytime I board? Lastly not a negative  against  them but a webcam would be nice. They have camper camios (still pics at the end of the day) but my dog was there for 3 days and I only got one day to see how he was holding up.\n",
      "---\n",
      "I truly cannot give high enough reviews and compliments about Pet Camp. My dog Rocky has never loved a place as much as Pet Camp. Recently, I had to move out of SF and the worst part about that is that Rocky can't keep attending camp. My dog is not the easiest to care for, he needs a little extra TLC when it comes to socializing and interacting with other dogs, and Pet Camp never shied away from doing whatever they needed to do to make sure he had an amazing day at camp! Without me even saying, they quickly determined how much he loves scent work, and created activities tailored to him. They gave me updates on how he did every time I picked him up from day care or an overnight visit that left me feeling informed and safe knowing how well they kept an eye on him and cared for him. Every time we walked in the door they knew Rocky's name and greeted him with excitement. Pet Camp is genuinely a place where each and every person cares for your pup. I am so sad we had to leave Pet Camp when we moved, but I cannot thank them enough for how well the loved my dog!\n",
      "---\n",
      "Pet Camp is great! I have been so happy with the services they provide. I called and spoke with the front desk about 2 weeks before I was planning on dropping my pup off for his first day at puppy care. They provided me with everything I needed to know about his first visit... prepping for shots, how to drop him off, hours of operation, pricing options, etc.\n",
      "We have been taking Finnegan to day camp for 2 weeks now and he absolutely loves it! His camp counselor gave me a very detailed report of his first day and I felt comfortable and safe with him being there all day.\n",
      "The staff is absolutely amazing... very kind and helpful.\n",
      "Finnegan gives Pet Camp 5 stars!\n",
      "---\n",
      "I have been going to Pet Camp for 22 years and it is by far an extraordinary family oriented business that delivers 5 star service to our beloved dog Misha and our previous pup.\n",
      "I often joke that \" I want to spend a day at Pet Camp\"\n",
      "Mark and Virginia are outstanding. Misha's tail starts wagging as soon as we close in on Phelps street, she knows it's going to be a great day\n",
      "Check it out it is the best\n",
      "---\n",
      "After boarding our Labrador retriever several times at Pet Camp, my partner and I can no longer trust this facility with our dog. Read the email below, which I just sent to them, to understand why.\n",
      "\n",
      "\n",
      "Hi there -\n",
      "\n",
      "I'm writing about my Labrador retriever, Mochi, who was boarded at Pet Camp last night. After bringing her home this afternoon, I unpacked her bag and was very disappointed and disturbed to find that her medication along with a piece of cheese were left untouched in a Ziploc bag (photo attached), meaning whoever was caring for Mochi did not administer her medicine this morning despite clear instructions to do so. This type of negligence comes with serious risk - it is dangerous for dogs to get off this medication suddenly. I'm afraid my partner and I can no longer trust Pet Camp with our dog and we will be taking our business elsewhere. We are also requesting a refund of $118 as a remedy. \n",
      "\n",
      "This is not the first time that Pet Camp let us down. Earlier this year, Mochi came home from Pet Camp with canine influenza. Of course it is not your facility's fault that she got sick. But nobody at Pet Camp ever bothered to notify us to inform us of a potential outbreak because other dogs had been infected at Pet Camp; we found out only through an expensive test at our vet. We forgave this incident because it seemed like a simple oversight, but failure to give a dog its medication is beyond irresponsible. We encourage Pet Camp to make efforts to learn from this bad experience. \n",
      "\n",
      "Sincerely, \n",
      "\n",
      "Brian\n",
      "---\n",
      "Our puppy loves PetCamp so much that you would think he was an addict and PetCamp was an illegal substance. He was in the yard one morning and I was trying to get him to come inside... \"Monty!\" (looks up), \"Cheese!\" (looks slightly more interested), then ... \"PetCamp!\" - he runs up the stairs, tripping and literally falling over himself to get going. I had the misfortune of breaking my ankle last year when he was 6 months old. PetCamp saved him from having to suffer along with me. I found it through word of mouth and I've run into coworkers, friends and neighbors there who all feel the same. My only gripe is that it's pricey, but it's in SF - so I can't hold that against the damn business. I hold it against the mayor.\n",
      "---\n",
      "My cat, Ghostbuster, just got home from his second stay at Pet Camp. He's a very social cat that likes to have lots of human interaction and I can tell he gets plenty at Pet Camp. He comes home acting very normal and not needy like he is if I leave him home alone (even if it's just for the day while I'm at work). I like that they post pictures each day on their website so I can see how he is doing without having to call each day.\n",
      "\n",
      "I used the Pet Camp Express (their pick-up/drop-off service) for the first time this stay and it was very convenient. They arrived within the time window they gave me and the price was very reasonable compared to other options for someone without a car.\n",
      "---\n",
      "Now... I don't usually like to review anything., but my experience was awful. I've been coming here for years and I've never had any issues until i left my poor loving dog to what I can only assume is neglectful people. I ordered a dog wash. When I came to pick him up he smelled foul. When I asked them if they washed him the assured me they did . Did they wash him in his own poop? Cause his butt also had dried poop all over. They then phoned around to give me the guise that he was washed.... never ever ever again. Btw I had to go to pet food express after to actually WASH him.\n",
      "---\n",
      "My big head Bruno loves going to Pet Camp!! As soon as we pull up in front, his tail starts wagging like crazy! The staff is amazing. We love the care they provide during Bruno's stays for day camp and overnight boarding. The daily pictures and videos that are posted provide us comfort and reassurance that Bruno is in good hands. He comes home tired after a day filled with fun! Thank you Pet Camp for providing a safe and fun place for Bruno to release some energy. I know sometimes my big head Bruno can be a handful, and the Ranger program helps him stay focused. He gets one on one training from one of the great camp counselors. On other days, Bruno is able explore and play in the Savannah for some Back Country action. Thank you again Pet Camp! Bruno is definitely a customer for life!\n",
      "---\n",
      "Our senior dog recently lost his life-long best friend to old age, and we've always been meaning to find him a new companion. During these unprecendented times of COVID-19 and continued shelter-in-place throughout the Bay Area, we decided now would be a fantastic time to add to our family. However, it seems like there's a lot of like-minded folks also willing to open their homes and hearts to new furry family members, as all the local rescues have been receiving hundreds of applications left and right. This meant any time we saw a dog online that we might be interested in, he was long gone before my application even hit their inbox (so stoked for all these animals, but boo for me). To compensate for the intense competition and high demand, I fanatically bookmarked 43 local shelters, sent in applications, and religiously checked for updates. Despite this, I very rarely heard back from anyone probably due to email backlog.\n",
      "\n",
      "My praises of Family Dog Rescue:\n",
      "-  FDR was one of the few groups that immediately followed up - approving my application within 24 hours of submission. I really appreciate that they are open to considering families of all backgrounds - folks with young children, apartment-living, or first-time dog owners. We've been wanting to adopt a bully breed dog, but vast majority of rescues will not consider our application given our limited history with them. This seems a little bit like applying for an entry-level job with a prior working experience requirement - if I can't adopt a bully breed due to lack of experience, how do I get experience to adopt a bully breed?\n",
      "- I appreciate how seamless, intuitive, and pleasing the UI of their site is. Of all the rescue groups, I found their site to be the easiest to navigate, being able to look for dogs through multiple filters such as gender, age, name, breed, color, energy level, and special needs. It's also really to nice to see a site that lives in the modern century (if you've been to other rescue pages, some look like they haven't been updated since the 90's). Because of this, my techy husband was more willing to browse for dogs he might be interested in, and was much faster looking only at dogs that fulfilled our criteria instead of scrolling through all the (adorable but too small for us) chihuahuas.\n",
      "- The email approving our application contained a link leading to an appointment booking calendar. Given coronavirus, they were no longer allowing walk-ins in order to limit traffic and ensure it was possible to maintain distance. The email also contained information on COVID-19 precautions, such as asking us to stay home if we are sick, to reschedule if we feel unwell, to maintain distance and wear a facemask and gloves, etc. It was really encouraging to see them take the CDC recommended precautionary measures to make us feel safe and welcome too. Anyway, we got super lucky because by 12pm, my picky husband finally saw a dog he was interested in (Hallelujah!), and we managed to book an open appointment for 4:30pm the same day (the next available appointment was almost a month out!).\n",
      "- We drive the 25 minutes to San Francisco (say what, a trip that normally would take us easily 50 min plus the time needed to find parking, so we accidentally got there 30 min early haha). Turns out, there's quite a large amount of parking available as the area appears to be industrial and has a lot of open space to park.\n",
      "- We enter, go upstairs, and are greeted and helped by a volunteer within a minute or so. We tell them we have an appointment and are interested in Tucker, a 1-year old German Shepard, as well as another dog. They see that we brought our small 11lb mini poodle, and said Tucker has not been tested with small dogs yet, so they went out to see how he would interact with another small rescue dog before we brought ours in to meet him. While we waited, they also mentioned that the other dog we were interested in did sadly have a bite history in case it was a deal-breaker for us (sadly it was), and I really appreciate how serious they are about finding a good match for their dogs to families that are ready for everything about their new pet.\n",
      "- They bring us and Tucker into a semi-private room with 4 large couches where we could begin to introduce ourselves and interact with him. I like how they left the room to give us some quiet time to engage with the animal, and checked in on us every ten minutes or so to see if we needed anything. They never rushed us, and even said we could go take Tucker out for a walk and that the room would be left empty for us to use when we returned. All in all, we must have spent over an hour with Tucker. My only suggestion - please consider collecting car keys instead of Driver's Licenses when we take dogs on trial walks - I didn't realize until I got home that I forgot to take it back :)\n",
      "\n",
      "Anyway, that time alone, the lack of pressuring or rushing, and Tucker being Tucker meant we just added to our family. THANK YOU.\n",
      "---\n",
      "My husband and I visited six shelters on a Sunday and this was by far the worst one we visited. We went there after visiting the SPCA and there was a night and day difference. It was the second shelter we visited and it was pure chaos there. I thought maybe they would all be like that but after the sixth shelter (where we found the cutest dog to adopt) we couldn't believe how poorly this shelter was run. They have good reviews overall but if you sort by most recent reviews you will notice the dramatic increase of 1 & 2 star reviews. \n",
      "\n",
      "The entire place is disorganized and reeks of urine. When you arrive, there is no one to greet you. You have no idea where to go or what to do. The volunteers were having a very tense argument right in front of us. It was incredibly inappropriate. A woman told us to go upstairs and fill out a form. They didn't tell us how to get upstairs though and returned to arguing with each other. I think the owner was having an aggressive reprimanding session with her volunteer.\n",
      "\n",
      "When we finally got upstairs and put our names on the list, we sat and waited. And waited and waited. After an hour when it was almost our turn, a couple had showed up early for their appointment and said they could get a coffee first. The woman working there told them they could stay and they get priority because they made an appointment which meant we would have to wait another hour. \n",
      "\n",
      "At that point we just left. I am all about supporting grassroots projects and I love the mission of this place but this place is poorly run. It is the only place that made us fill out a lengthly form before we were able to do anything and then didn't bother to actually help us from that point on. The incompetence here is staggering.\n",
      "---\n",
      "Most importantly Family Dog Rescue is fighting the good fight trying to help as many dogs as they can find their fur-ever home, and luckily for me they helped me find my little soulmate puppy Elvis. I couldn't be happier or more in love with this little mutt of mine. \n",
      "\n",
      "It is important to realize you are going in for a rescue and they generally don't know a lot about the history or health of the dogs. In my case Elvis has been with them less than 24 hours when I adopted him. He has not yet seen a vet, I couldn't have waited but they told me it was likely he would be adopted before he received a vet visit and given how cute he was I agreed with them and went forward with the adoption right away. On the spot i was required to pay $200 holding fee until he was fixed. They coordinate you with services to have the dogs fixed at no cost to you and once you provide proof you get the $200 back. Luckily for me he didn't have any health issues nor did he have any behavioral issues. They had guessed 2-3 for his age and the vet agreed. \n",
      "\n",
      "When adopting a rescue it is important to remember health and personality are not promised and issues often arise that FDR can't predict. A dog in a rescue shelter changes dramatically when they settle into a new life. \n",
      "\n",
      "All in all I couldn't be any happiest, this little man has changed my life and I have FDR to thank for bringing him into my life.\n",
      "---\n",
      "I have fostered with I Love Family Dog, and was inspired by how devoted this team is to ensuring dogs of all circumstances have a chance to blossom and change the lives of the people who foster and adopt them. \n",
      "\n",
      "I couldn't say enough positive things about the impact that this scrappy, hard-working, and mission-driven team is giving all dogs, especially the \"underdogs\" that would otherwise not have a chance, an opportunity to thrive and change the lives of thousands of families in the Bay Area.\n",
      "---\n",
      "I had been passively looking for a dog for a while when I came across Tiki (now Sasa) on their website. I loved her from the moment I saw her on the site, but, never having a dog of my own, was hesitant. \n",
      "\n",
      "Didn't schedule an appointment or anything, just walked in on a Sunday hoping she was still available. I think they're pretty busy, especially on weekends so I had to wait a bit (less than 20 mins) for someone to help me. I told them the name of the dog I was interested in and they told me they would bring her in a bit. There were a couple of puppies in the room that I was able to play with while I waited so it went by really quickly. \n",
      "\n",
      "They had me fill out a few forms and speak with one of the volunteers in a separate room and she told me she would bring Tiki in so I could meet her. When they brought her in she was extremely shy & nervous and wouldn't come near me willingly, but they told me she bonds really quickly. I asked if we could make it a foster-to-adopt commitment, in case she was just truly unhappy in my home, and they agreed that I could have her for two weeks and if things didn't seem to be working out I could bring her back.\n",
      "\n",
      "When I first brought her home she was SO scared and I wondered if I'd made a mistake. I thought to myself, \"Okay, let's just give it the two weeks and see how it goes\" and just made sure to be very gentle and approach her on her terms. After about two or three days she bonded to me and started to trust me, and I absolutely loved her. \n",
      "\n",
      "I've had her now about 4 or 5 months and adopting her was probably the best decision I've ever made in my life. She fits in perfectly with my lifestyle and is the sweetest little girl. I honestly would recommend anyone adopt from FDR, it's completely changed my life for the better. Though I'm still working on building Sasa's confidence and getting her socialized, I don't think I could have possibly made a better decision. She is so sweet and full of love and makes me so happy and proud every day.\n",
      "---\n",
      "I visited this\"rescue\" today to validate all of the more recent negative reviews. Unfortunately they were correct.  Yes they do pull dogs from shelters which is great but they put them in kennels and let them sit in their own feces and urine which is unacceptable. I'm sorry, I do not want any rescue to fail but Family Dog Rescue needs to be shut down. I will be contacting someone from animal welfare in the morning for them to hopefully look into. I also volunteer at San Jose Animal Shelter and had an unfortunate encounter with them as well when they brought back a sweet pit who was sadly put down. \n",
      "Please do your homework before adopting from here. I too was ignored when I arrived and waited hours to see the conditions that the dogs were living in. I was crying by the time I left there.\n",
      "---\n",
      "Got my heart broken yesterday by this place. I've been wanting to adopt a dog for quite sometime, and I have prepared for it. I started looking online, and found this puppy that's with this rescue so I came to meet her. She was the one, I tell the girls in charge I'm ready to move forward with the adoption process and they direct me to the woman in charge of this part, she proceeds to tell me the deal very quietly, almost as she's embarrassed of the BS. They wanted $750 \"donation fee\" where on earth is SEVEN HUNDRED DOLLARS considered a donation fee!? San Francisco I guess... geeze! Then as I am gathering myself to leave empty handed this woman has the audacity to tell me that I can still donate anything because they're a rescue space and whatever she was saying I could barely hear her and at that point between my broken heart, her in capability of communicating and the reek of piss throughout the facility I was done. \n",
      "I don't know how anyone can trust this place. F-\n",
      "---\n",
      "Great staffs and volunteers - including the ones who are not working at the office.  They are super helpful with giving us additional information.  The process is also a lot easier.  \n",
      "\n",
      "Unlike many other shelters, I really appreciate that they let you spend time with the doggie and they really like you take your time to decide.  I also like that it's a larger kennel so there are many dogs to choose from.  But the downside is that our doggie have the kennel cough since it's hard enough to manage a kennel. \n",
      "\n",
      "It will also great if they can let you know when your application for other puppy is rejected.  So you can go ahead and adopt other dog.  In our case we fell in love with this 5 year old anyway. ;-)\n",
      "---\n",
      "We were so blessed to meet our beloved best friend at Family Dog Rescue. \n",
      "\n",
      "My wife and I stumbled upon this place, one day, and decided to check it out. I am sooooo thankful we did! Our lives changed for the better ever since.\n",
      "\n",
      "Mazzy \"aka Marina\" was a 8 weeks old puppy from Mexico along with her 8-10 brothers and sisters, that we adopted from this organization. She was all white with bright blue eyes and the sweetest personality. Today, she has blossomed into an amazing, loving, tender, loyal companion that is sooo easy to take everywhere. She loooves people and loves to play with dogs of all sizes. In fact, this month, she was selected as Camper of Month at Camp Bow Wow for her amazing temperament and loving personality. (We know why shes their favorite)\n",
      "\n",
      "This organization is the best. The staff truly care about their dogs and are willing to go above and beyond for their furry friends to get the best homes. So, don't be shocked if you get interviewed and need to fill out a application.  We paid $750 for Mazzy to receive all shots, with a $300 refund upon getting her spayed, which they organized. \n",
      "\n",
      "5 stars all the way and hands down one the best decision of we have made.\n",
      "\n",
      "Mazzy goes everywhere with us- including long road trips, swimming, restaurants, parks, and even the occasional beer garden nights. Very pleased.\n",
      "\n",
      "Remember, never adopt the first puppy you meet, take your time and your lil soul mate will find you. We researched for months before adopting and so thankful we did and we were fully prepared for the tasks ahead- puppyhood!!! Ahhhh! But also awwww!\n",
      "\n",
      "Good luck!\n",
      "---\n",
      "1.5 years later, we are blessed every single day that we get to spend with our Family Dog, Luca! He gets compliments and aspirational questions EVERYWHERE we go, \"What kind of dog is that?\" \"Where did you get your dog??\" and \"That is the cutest dog I've ever seen!\" and I'm always thrilled when I get to answer that he was a rescue, from Family Dog in San Francisco, and that he is incredibly sweet and funny in addition to his supermodel looks. I love what Family Dog does for other dogs in need, and will continue to be a donor to their urgent giving campaigns for emergency rescues and will continue to adopt! Now if only that billion dollars would arrive so I can build my thousand-dog estate....\n",
      "---\n"
     ]
    }
   ],
   "source": [
    "for text in df.review_text.iloc[:50]:\n",
    "    print(text)\n",
    "    print(\"---\")"
   ]
  },
  {
   "cell_type": "code",
   "execution_count": 31,
   "metadata": {
    "ExecuteTime": {
     "end_time": "2020-06-04T13:27:49.483206Z",
     "start_time": "2020-06-04T13:27:49.418551Z"
    }
   },
   "outputs": [
    {
     "name": "stdout",
     "output_type": "stream",
     "text": [
      "Index(['review_name', 'review_rating', 'review_date', 'review_text', 'biz_url',\n",
      "       'biz_rating', 'biz_name'],\n",
      "      dtype='object')\n"
     ]
    }
   ],
   "source": [
    "ori_colnames = df.columns\n",
    "print(ori_colnames)"
   ]
  },
  {
   "cell_type": "markdown",
   "metadata": {
    "ExecuteTime": {
     "end_time": "2020-06-04T13:27:56.715222Z",
     "start_time": "2020-06-04T13:27:56.665082Z"
    }
   },
   "source": [
    "### Remove reviews only mention grooming or product sales, but not boarding/hotel/kennel-type services"
   ]
  },
  {
   "cell_type": "code",
   "execution_count": 33,
   "metadata": {
    "ExecuteTime": {
     "end_time": "2020-06-04T13:28:02.985923Z",
     "start_time": "2020-06-04T13:28:02.933004Z"
    }
   },
   "outputs": [],
   "source": [
    "def get_number_of_reviews(df):\n",
    "    import re\n",
    "    print(\"# of reviews containing word board: \",\n",
    "          df.review_text.str.contains(re.compile(r'board(?i)')).sum())\n",
    "    print(\"# of reviews containing word -cation: \",\n",
    "          df.review_text.str.contains(re.compile(r'cation(?i)')).sum())\n",
    "    print(\"# of reviews containing word hotel: \",\n",
    "          df.review_text.str.contains(re.compile(r'hotel(?i)')).sum())\n",
    "    print(\"# of reviews containing word kennel: \",\n",
    "          df.review_text.str.contains(re.compile(r'kennel(?i)')).sum())\n",
    "    print(\"# of reviews containing word travel: \",\n",
    "          df.review_text.str.contains(re.compile(r'travel(?i)')).sum())\n",
    "    print(\"# of reviews containing word sitter: \",\n",
    "          df.review_text.str.contains(re.compile(r'sitter(?i)')).sum())\n",
    "    print(\"# of reviews containing word sitting: \",\n",
    "          df.review_text.str.contains(re.compile(r'sitting(?i)')).sum())\n",
    "    print(\"# of reviews containing phrase day care: \",\n",
    "          df.review_text.str.contains(re.compile(r'day care(?i)')).sum())\n",
    "    print(\"# of reviews containing word groom: \",\n",
    "          df.review_text.str.contains(re.compile(r'groom(?i)')).sum())"
   ]
  },
  {
   "cell_type": "code",
   "execution_count": 34,
   "metadata": {
    "ExecuteTime": {
     "end_time": "2020-06-04T13:28:16.875039Z",
     "start_time": "2020-06-04T13:28:09.822966Z"
    }
   },
   "outputs": [
    {
     "name": "stdout",
     "output_type": "stream",
     "text": [
      "# of reviews containing word board:  9490\n",
      "# of reviews containing word -cation:  12779\n",
      "# of reviews containing word hotel:  824\n",
      "# of reviews containing word kennel:  1455\n",
      "# of reviews containing word travel:  4212\n",
      "# of reviews containing word sitter:  5543\n",
      "# of reviews containing word sitting:  4640\n",
      "# of reviews containing phrase day care:  1314\n",
      "# of reviews containing word groom:  7573\n"
     ]
    }
   ],
   "source": [
    "get_number_of_reviews(df)"
   ]
  },
  {
   "cell_type": "code",
   "execution_count": 36,
   "metadata": {
    "ExecuteTime": {
     "end_time": "2020-06-04T13:29:07.336861Z",
     "start_time": "2020-06-04T13:29:00.357782Z"
    }
   },
   "outputs": [
    {
     "data": {
      "text/plain": [
       "(30696, 7)"
      ]
     },
     "execution_count": 36,
     "metadata": {},
     "output_type": "execute_result"
    }
   ],
   "source": [
    "def remove_irrelevant_reviews(df):\n",
    "    import re\n",
    "    long_con = (df.review_text.str.contains(re.compile(r'kennel(?i)')) & ~(df.review_text.str.contains(re.compile(r'kennel cough(?i)'))))\n",
    "\n",
    "    condition = ((df.review_text.str.contains(re.compile(r'board(?i)')))\n",
    "                 | (df.review_text.str.contains(re.compile(r'cation(?i)')))\n",
    "                 | (df.review_text.str.contains(re.compile(r'hotel(?i)')))\n",
    "                 | (df.review_text.str.contains(re.compile(r'travel(?i)')))\n",
    "                 | (df.review_text.str.contains(re.compile(r'sitter(?i)')))\n",
    "                 | (df.review_text.str.contains(re.compile(r'sitting(?i)')))\n",
    "                 | (df.review_text.str.contains(re.compile(r'day care(?i)')))\n",
    "                 | long_con)\n",
    "    df = df[condition]\n",
    "    return df\n",
    "\n",
    "df_new = remove_irrelevant_reviews(df)\n",
    "df_new.shape"
   ]
  },
  {
   "cell_type": "markdown",
   "metadata": {},
   "source": [
    "## Sanity check to make sure no reviews are explicity on groom only"
   ]
  },
  {
   "cell_type": "code",
   "execution_count": 37,
   "metadata": {
    "ExecuteTime": {
     "end_time": "2020-06-04T13:43:31.558755Z",
     "start_time": "2020-06-04T13:29:07.491534Z"
    }
   },
   "outputs": [
    {
     "ename": "KeyboardInterrupt",
     "evalue": "",
     "output_type": "error",
     "traceback": [
      "\u001b[0;31m---------------------------------------------------------------------------\u001b[0m",
      "\u001b[0;31mKeyboardInterrupt\u001b[0m                         Traceback (most recent call last)",
      "\u001b[0;32m<ipython-input-37-a86d29d2ab7f>\u001b[0m in \u001b[0;36m<module>\u001b[0;34m\u001b[0m\n\u001b[1;32m     13\u001b[0m text = df_new[(df_new.review_text.str.contains(re.compile(r'groom(?i)'))) & \n\u001b[1;32m     14\u001b[0m                \u001b[0;34m~\u001b[0m\u001b[0;34m(\u001b[0m\u001b[0mcondition\u001b[0m\u001b[0;34m)\u001b[0m \u001b[0;34m&\u001b[0m\u001b[0;34m\u001b[0m\u001b[0;34m\u001b[0m\u001b[0m\n\u001b[0;32m---> 15\u001b[0;31m                ~(long_con)]['review_text']\n\u001b[0m\u001b[1;32m     16\u001b[0m \u001b[0;34m\u001b[0m\u001b[0m\n\u001b[1;32m     17\u001b[0m \u001b[0;32massert\u001b[0m\u001b[0;34m(\u001b[0m\u001b[0mlen\u001b[0m\u001b[0;34m(\u001b[0m\u001b[0mtext\u001b[0m\u001b[0;34m)\u001b[0m \u001b[0;34m==\u001b[0m \u001b[0;36m0\u001b[0m\u001b[0;34m)\u001b[0m\u001b[0;34m\u001b[0m\u001b[0;34m\u001b[0m\u001b[0m\n",
      "\u001b[0;32m~/anaconda3/lib/python3.7/site-packages/pandas/core/frame.py\u001b[0m in \u001b[0;36m__getitem__\u001b[0;34m(self, key)\u001b[0m\n\u001b[1;32m   2789\u001b[0m         \u001b[0;31m# Do we have a (boolean) 1d indexer?\u001b[0m\u001b[0;34m\u001b[0m\u001b[0;34m\u001b[0m\u001b[0;34m\u001b[0m\u001b[0m\n\u001b[1;32m   2790\u001b[0m         \u001b[0;32mif\u001b[0m \u001b[0mcom\u001b[0m\u001b[0;34m.\u001b[0m\u001b[0mis_bool_indexer\u001b[0m\u001b[0;34m(\u001b[0m\u001b[0mkey\u001b[0m\u001b[0;34m)\u001b[0m\u001b[0;34m:\u001b[0m\u001b[0;34m\u001b[0m\u001b[0;34m\u001b[0m\u001b[0m\n\u001b[0;32m-> 2791\u001b[0;31m             \u001b[0;32mreturn\u001b[0m \u001b[0mself\u001b[0m\u001b[0;34m.\u001b[0m\u001b[0m_getitem_bool_array\u001b[0m\u001b[0;34m(\u001b[0m\u001b[0mkey\u001b[0m\u001b[0;34m)\u001b[0m\u001b[0;34m\u001b[0m\u001b[0;34m\u001b[0m\u001b[0m\n\u001b[0m\u001b[1;32m   2792\u001b[0m \u001b[0;34m\u001b[0m\u001b[0m\n\u001b[1;32m   2793\u001b[0m         \u001b[0;31m# We are left with two options: a single key, and a collection of keys,\u001b[0m\u001b[0;34m\u001b[0m\u001b[0;34m\u001b[0m\u001b[0;34m\u001b[0m\u001b[0m\n",
      "\u001b[0;32m~/anaconda3/lib/python3.7/site-packages/pandas/core/frame.py\u001b[0m in \u001b[0;36m_getitem_bool_array\u001b[0;34m(self, key)\u001b[0m\n\u001b[1;32m   2841\u001b[0m         \u001b[0;31m# check_bool_indexer will throw exception if Series key cannot\u001b[0m\u001b[0;34m\u001b[0m\u001b[0;34m\u001b[0m\u001b[0;34m\u001b[0m\u001b[0m\n\u001b[1;32m   2842\u001b[0m         \u001b[0;31m# be reindexed to match DataFrame rows\u001b[0m\u001b[0;34m\u001b[0m\u001b[0;34m\u001b[0m\u001b[0;34m\u001b[0m\u001b[0m\n\u001b[0;32m-> 2843\u001b[0;31m         \u001b[0mkey\u001b[0m \u001b[0;34m=\u001b[0m \u001b[0mcheck_bool_indexer\u001b[0m\u001b[0;34m(\u001b[0m\u001b[0mself\u001b[0m\u001b[0;34m.\u001b[0m\u001b[0mindex\u001b[0m\u001b[0;34m,\u001b[0m \u001b[0mkey\u001b[0m\u001b[0;34m)\u001b[0m\u001b[0;34m\u001b[0m\u001b[0;34m\u001b[0m\u001b[0m\n\u001b[0m\u001b[1;32m   2844\u001b[0m         \u001b[0mindexer\u001b[0m \u001b[0;34m=\u001b[0m \u001b[0mkey\u001b[0m\u001b[0;34m.\u001b[0m\u001b[0mnonzero\u001b[0m\u001b[0;34m(\u001b[0m\u001b[0;34m)\u001b[0m\u001b[0;34m[\u001b[0m\u001b[0;36m0\u001b[0m\u001b[0;34m]\u001b[0m\u001b[0;34m\u001b[0m\u001b[0;34m\u001b[0m\u001b[0m\n\u001b[1;32m   2845\u001b[0m         \u001b[0;32mreturn\u001b[0m \u001b[0mself\u001b[0m\u001b[0;34m.\u001b[0m\u001b[0m_take_with_is_copy\u001b[0m\u001b[0;34m(\u001b[0m\u001b[0mindexer\u001b[0m\u001b[0;34m,\u001b[0m \u001b[0maxis\u001b[0m\u001b[0;34m=\u001b[0m\u001b[0;36m0\u001b[0m\u001b[0;34m)\u001b[0m\u001b[0;34m\u001b[0m\u001b[0;34m\u001b[0m\u001b[0m\n",
      "\u001b[0;32m~/anaconda3/lib/python3.7/site-packages/pandas/core/indexing.py\u001b[0m in \u001b[0;36mcheck_bool_indexer\u001b[0;34m(index, key)\u001b[0m\n\u001b[1;32m   2312\u001b[0m     \u001b[0mresult\u001b[0m \u001b[0;34m=\u001b[0m \u001b[0mkey\u001b[0m\u001b[0;34m\u001b[0m\u001b[0;34m\u001b[0m\u001b[0m\n\u001b[1;32m   2313\u001b[0m     \u001b[0;32mif\u001b[0m \u001b[0misinstance\u001b[0m\u001b[0;34m(\u001b[0m\u001b[0mkey\u001b[0m\u001b[0;34m,\u001b[0m \u001b[0mABCSeries\u001b[0m\u001b[0;34m)\u001b[0m \u001b[0;32mand\u001b[0m \u001b[0;32mnot\u001b[0m \u001b[0mkey\u001b[0m\u001b[0;34m.\u001b[0m\u001b[0mindex\u001b[0m\u001b[0;34m.\u001b[0m\u001b[0mequals\u001b[0m\u001b[0;34m(\u001b[0m\u001b[0mindex\u001b[0m\u001b[0;34m)\u001b[0m\u001b[0;34m:\u001b[0m\u001b[0;34m\u001b[0m\u001b[0;34m\u001b[0m\u001b[0m\n\u001b[0;32m-> 2314\u001b[0;31m         \u001b[0mresult\u001b[0m \u001b[0;34m=\u001b[0m \u001b[0mresult\u001b[0m\u001b[0;34m.\u001b[0m\u001b[0mreindex\u001b[0m\u001b[0;34m(\u001b[0m\u001b[0mindex\u001b[0m\u001b[0;34m)\u001b[0m\u001b[0;34m\u001b[0m\u001b[0;34m\u001b[0m\u001b[0m\n\u001b[0m\u001b[1;32m   2315\u001b[0m         \u001b[0mmask\u001b[0m \u001b[0;34m=\u001b[0m \u001b[0misna\u001b[0m\u001b[0;34m(\u001b[0m\u001b[0mresult\u001b[0m\u001b[0;34m.\u001b[0m\u001b[0m_values\u001b[0m\u001b[0;34m)\u001b[0m\u001b[0;34m\u001b[0m\u001b[0;34m\u001b[0m\u001b[0m\n\u001b[1;32m   2316\u001b[0m         \u001b[0;32mif\u001b[0m \u001b[0mmask\u001b[0m\u001b[0;34m.\u001b[0m\u001b[0many\u001b[0m\u001b[0;34m(\u001b[0m\u001b[0;34m)\u001b[0m\u001b[0;34m:\u001b[0m\u001b[0;34m\u001b[0m\u001b[0;34m\u001b[0m\u001b[0m\n",
      "\u001b[0;32m~/anaconda3/lib/python3.7/site-packages/pandas/core/series.py\u001b[0m in \u001b[0;36mreindex\u001b[0;34m(self, index, **kwargs)\u001b[0m\n\u001b[1;32m   4028\u001b[0m     \u001b[0;34m@\u001b[0m\u001b[0mAppender\u001b[0m\u001b[0;34m(\u001b[0m\u001b[0mgeneric\u001b[0m\u001b[0;34m.\u001b[0m\u001b[0mNDFrame\u001b[0m\u001b[0;34m.\u001b[0m\u001b[0mreindex\u001b[0m\u001b[0;34m.\u001b[0m\u001b[0m__doc__\u001b[0m\u001b[0;34m)\u001b[0m\u001b[0;34m\u001b[0m\u001b[0;34m\u001b[0m\u001b[0m\n\u001b[1;32m   4029\u001b[0m     \u001b[0;32mdef\u001b[0m \u001b[0mreindex\u001b[0m\u001b[0;34m(\u001b[0m\u001b[0mself\u001b[0m\u001b[0;34m,\u001b[0m \u001b[0mindex\u001b[0m\u001b[0;34m=\u001b[0m\u001b[0;32mNone\u001b[0m\u001b[0;34m,\u001b[0m \u001b[0;34m**\u001b[0m\u001b[0mkwargs\u001b[0m\u001b[0;34m)\u001b[0m\u001b[0;34m:\u001b[0m\u001b[0;34m\u001b[0m\u001b[0;34m\u001b[0m\u001b[0m\n\u001b[0;32m-> 4030\u001b[0;31m         \u001b[0;32mreturn\u001b[0m \u001b[0msuper\u001b[0m\u001b[0;34m(\u001b[0m\u001b[0;34m)\u001b[0m\u001b[0;34m.\u001b[0m\u001b[0mreindex\u001b[0m\u001b[0;34m(\u001b[0m\u001b[0mindex\u001b[0m\u001b[0;34m=\u001b[0m\u001b[0mindex\u001b[0m\u001b[0;34m,\u001b[0m \u001b[0;34m**\u001b[0m\u001b[0mkwargs\u001b[0m\u001b[0;34m)\u001b[0m\u001b[0;34m\u001b[0m\u001b[0;34m\u001b[0m\u001b[0m\n\u001b[0m\u001b[1;32m   4031\u001b[0m \u001b[0;34m\u001b[0m\u001b[0m\n\u001b[1;32m   4032\u001b[0m     def drop(\n",
      "\u001b[0;32m~/anaconda3/lib/python3.7/site-packages/pandas/core/generic.py\u001b[0m in \u001b[0;36mreindex\u001b[0;34m(self, *args, **kwargs)\u001b[0m\n\u001b[1;32m   4542\u001b[0m         \u001b[0;31m# perform the reindex on the axes\u001b[0m\u001b[0;34m\u001b[0m\u001b[0;34m\u001b[0m\u001b[0;34m\u001b[0m\u001b[0m\n\u001b[1;32m   4543\u001b[0m         return self._reindex_axes(\n\u001b[0;32m-> 4544\u001b[0;31m             \u001b[0maxes\u001b[0m\u001b[0;34m,\u001b[0m \u001b[0mlevel\u001b[0m\u001b[0;34m,\u001b[0m \u001b[0mlimit\u001b[0m\u001b[0;34m,\u001b[0m \u001b[0mtolerance\u001b[0m\u001b[0;34m,\u001b[0m \u001b[0mmethod\u001b[0m\u001b[0;34m,\u001b[0m \u001b[0mfill_value\u001b[0m\u001b[0;34m,\u001b[0m \u001b[0mcopy\u001b[0m\u001b[0;34m\u001b[0m\u001b[0;34m\u001b[0m\u001b[0m\n\u001b[0m\u001b[1;32m   4545\u001b[0m         ).__finalize__(self)\n\u001b[1;32m   4546\u001b[0m \u001b[0;34m\u001b[0m\u001b[0m\n",
      "\u001b[0;32m~/anaconda3/lib/python3.7/site-packages/pandas/core/generic.py\u001b[0m in \u001b[0;36m_reindex_axes\u001b[0;34m(self, axes, level, limit, tolerance, method, fill_value, copy)\u001b[0m\n\u001b[1;32m   4557\u001b[0m             \u001b[0max\u001b[0m \u001b[0;34m=\u001b[0m \u001b[0mself\u001b[0m\u001b[0;34m.\u001b[0m\u001b[0m_get_axis\u001b[0m\u001b[0;34m(\u001b[0m\u001b[0ma\u001b[0m\u001b[0;34m)\u001b[0m\u001b[0;34m\u001b[0m\u001b[0;34m\u001b[0m\u001b[0m\n\u001b[1;32m   4558\u001b[0m             new_index, indexer = ax.reindex(\n\u001b[0;32m-> 4559\u001b[0;31m                 \u001b[0mlabels\u001b[0m\u001b[0;34m,\u001b[0m \u001b[0mlevel\u001b[0m\u001b[0;34m=\u001b[0m\u001b[0mlevel\u001b[0m\u001b[0;34m,\u001b[0m \u001b[0mlimit\u001b[0m\u001b[0;34m=\u001b[0m\u001b[0mlimit\u001b[0m\u001b[0;34m,\u001b[0m \u001b[0mtolerance\u001b[0m\u001b[0;34m=\u001b[0m\u001b[0mtolerance\u001b[0m\u001b[0;34m,\u001b[0m \u001b[0mmethod\u001b[0m\u001b[0;34m=\u001b[0m\u001b[0mmethod\u001b[0m\u001b[0;34m\u001b[0m\u001b[0;34m\u001b[0m\u001b[0m\n\u001b[0m\u001b[1;32m   4560\u001b[0m             )\n\u001b[1;32m   4561\u001b[0m \u001b[0;34m\u001b[0m\u001b[0m\n",
      "\u001b[0;32m~/anaconda3/lib/python3.7/site-packages/pandas/core/indexes/base.py\u001b[0m in \u001b[0;36mreindex\u001b[0;34m(self, target, method, level, limit, tolerance)\u001b[0m\n\u001b[1;32m   3150\u001b[0m                             \u001b[0;34m\"with a method or limit\"\u001b[0m\u001b[0;34m\u001b[0m\u001b[0;34m\u001b[0m\u001b[0m\n\u001b[1;32m   3151\u001b[0m                         )\n\u001b[0;32m-> 3152\u001b[0;31m                     \u001b[0mindexer\u001b[0m\u001b[0;34m,\u001b[0m \u001b[0mmissing\u001b[0m \u001b[0;34m=\u001b[0m \u001b[0mself\u001b[0m\u001b[0;34m.\u001b[0m\u001b[0mget_indexer_non_unique\u001b[0m\u001b[0;34m(\u001b[0m\u001b[0mtarget\u001b[0m\u001b[0;34m)\u001b[0m\u001b[0;34m\u001b[0m\u001b[0;34m\u001b[0m\u001b[0m\n\u001b[0m\u001b[1;32m   3153\u001b[0m \u001b[0;34m\u001b[0m\u001b[0m\n\u001b[1;32m   3154\u001b[0m         \u001b[0;32mif\u001b[0m \u001b[0mpreserve_names\u001b[0m \u001b[0;32mand\u001b[0m \u001b[0mtarget\u001b[0m\u001b[0;34m.\u001b[0m\u001b[0mnlevels\u001b[0m \u001b[0;34m==\u001b[0m \u001b[0;36m1\u001b[0m \u001b[0;32mand\u001b[0m \u001b[0mtarget\u001b[0m\u001b[0;34m.\u001b[0m\u001b[0mname\u001b[0m \u001b[0;34m!=\u001b[0m \u001b[0mself\u001b[0m\u001b[0;34m.\u001b[0m\u001b[0mname\u001b[0m\u001b[0;34m:\u001b[0m\u001b[0;34m\u001b[0m\u001b[0;34m\u001b[0m\u001b[0m\n",
      "\u001b[0;32m~/anaconda3/lib/python3.7/site-packages/pandas/core/indexes/base.py\u001b[0m in \u001b[0;36mget_indexer_non_unique\u001b[0;34m(self, target)\u001b[0m\n\u001b[1;32m   4483\u001b[0m             \u001b[0mtgt_values\u001b[0m \u001b[0;34m=\u001b[0m \u001b[0mtarget\u001b[0m\u001b[0;34m.\u001b[0m\u001b[0m_ndarray_values\u001b[0m\u001b[0;34m\u001b[0m\u001b[0;34m\u001b[0m\u001b[0m\n\u001b[1;32m   4484\u001b[0m \u001b[0;34m\u001b[0m\u001b[0m\n\u001b[0;32m-> 4485\u001b[0;31m         \u001b[0mindexer\u001b[0m\u001b[0;34m,\u001b[0m \u001b[0mmissing\u001b[0m \u001b[0;34m=\u001b[0m \u001b[0mself\u001b[0m\u001b[0;34m.\u001b[0m\u001b[0m_engine\u001b[0m\u001b[0;34m.\u001b[0m\u001b[0mget_indexer_non_unique\u001b[0m\u001b[0;34m(\u001b[0m\u001b[0mtgt_values\u001b[0m\u001b[0;34m)\u001b[0m\u001b[0;34m\u001b[0m\u001b[0;34m\u001b[0m\u001b[0m\n\u001b[0m\u001b[1;32m   4486\u001b[0m         \u001b[0;32mreturn\u001b[0m \u001b[0mensure_platform_int\u001b[0m\u001b[0;34m(\u001b[0m\u001b[0mindexer\u001b[0m\u001b[0;34m)\u001b[0m\u001b[0;34m,\u001b[0m \u001b[0mmissing\u001b[0m\u001b[0;34m\u001b[0m\u001b[0;34m\u001b[0m\u001b[0m\n\u001b[1;32m   4487\u001b[0m \u001b[0;34m\u001b[0m\u001b[0m\n",
      "\u001b[0;32mpandas/_libs/index.pyx\u001b[0m in \u001b[0;36mpandas._libs.index.IndexEngine.get_indexer_non_unique\u001b[0;34m()\u001b[0m\n",
      "\u001b[0;32m<__array_function__ internals>\u001b[0m in \u001b[0;36mresize\u001b[0;34m(*args, **kwargs)\u001b[0m\n",
      "\u001b[0;32m~/anaconda3/lib/python3.7/site-packages/numpy/core/fromnumeric.py\u001b[0m in \u001b[0;36mresize\u001b[0;34m(a, new_shape)\u001b[0m\n\u001b[1;32m   1413\u001b[0m         \u001b[0mextra\u001b[0m \u001b[0;34m=\u001b[0m \u001b[0mNa\u001b[0m \u001b[0;34m-\u001b[0m \u001b[0mextra\u001b[0m\u001b[0;34m\u001b[0m\u001b[0;34m\u001b[0m\u001b[0m\n\u001b[1;32m   1414\u001b[0m \u001b[0;34m\u001b[0m\u001b[0m\n\u001b[0;32m-> 1415\u001b[0;31m     \u001b[0ma\u001b[0m \u001b[0;34m=\u001b[0m \u001b[0mconcatenate\u001b[0m\u001b[0;34m(\u001b[0m\u001b[0;34m(\u001b[0m\u001b[0ma\u001b[0m\u001b[0;34m,\u001b[0m\u001b[0;34m)\u001b[0m \u001b[0;34m*\u001b[0m \u001b[0mn_copies\u001b[0m\u001b[0;34m)\u001b[0m\u001b[0;34m\u001b[0m\u001b[0;34m\u001b[0m\u001b[0m\n\u001b[0m\u001b[1;32m   1416\u001b[0m     \u001b[0;32mif\u001b[0m \u001b[0mextra\u001b[0m \u001b[0;34m>\u001b[0m \u001b[0;36m0\u001b[0m\u001b[0;34m:\u001b[0m\u001b[0;34m\u001b[0m\u001b[0;34m\u001b[0m\u001b[0m\n\u001b[1;32m   1417\u001b[0m         \u001b[0ma\u001b[0m \u001b[0;34m=\u001b[0m \u001b[0ma\u001b[0m\u001b[0;34m[\u001b[0m\u001b[0;34m:\u001b[0m\u001b[0;34m-\u001b[0m\u001b[0mextra\u001b[0m\u001b[0;34m]\u001b[0m\u001b[0;34m\u001b[0m\u001b[0;34m\u001b[0m\u001b[0m\n",
      "\u001b[0;32m<__array_function__ internals>\u001b[0m in \u001b[0;36mconcatenate\u001b[0;34m(*args, **kwargs)\u001b[0m\n",
      "\u001b[0;31mKeyboardInterrupt\u001b[0m: "
     ]
    }
   ],
   "source": [
    "import re\n",
    "long_con = (df.review_text.str.contains(re.compile(r'kennel(?i)')) & ~(df.review_text.str.contains(re.compile(r'kennel cough(?i)'))))\n",
    "\n",
    "condition = ((df.review_text.str.contains(re.compile(r'board(?i)')))\n",
    "             | (df.review_text.str.contains(re.compile(r'cation(?i)')))\n",
    "             | (df.review_text.str.contains(re.compile(r'hotel(?i)')))\n",
    "             | (df.review_text.str.contains(re.compile(r'travel(?i)')))\n",
    "             | (df.review_text.str.contains(re.compile(r'sitter(?i)')))\n",
    "             | (df.review_text.str.contains(re.compile(r'sitting(?i)')))\n",
    "             | (df.review_text.str.contains(re.compile(r'day care(?i)')))\n",
    "             | long_con)\n",
    "\n",
    "text = df_new[(df_new.review_text.str.contains(re.compile(r'groom(?i)'))) & \n",
    "               ~(condition) &\n",
    "               ~(long_con)]['review_text']\n",
    "\n",
    "assert(len(text) == 0)"
   ]
  },
  {
   "cell_type": "code",
   "execution_count": null,
   "metadata": {
    "ExecuteTime": {
     "end_time": "2020-06-04T13:43:31.566566Z",
     "start_time": "2020-06-04T13:31:36.885Z"
    }
   },
   "outputs": [],
   "source": [
    "df_new.head()"
   ]
  },
  {
   "cell_type": "code",
   "execution_count": null,
   "metadata": {
    "ExecuteTime": {
     "end_time": "2020-06-04T13:43:31.569765Z",
     "start_time": "2020-06-04T13:31:37.017Z"
    }
   },
   "outputs": [],
   "source": [
    "df_new[df_new.review_rating == 1.0].biz_name.value_counts()"
   ]
  },
  {
   "cell_type": "markdown",
   "metadata": {},
   "source": [
    "# NLP cleaning for model\n",
    "* Remove all irrelevant characters e.g., non alphanumeric characters\n",
    "* Remove words that are not relevant, such as urls or links\n",
    "* Remove white spaces\n",
    "* Remove accents\n",
    "* stop words beyond standard NLTK stop words needed to be removed to make the model more robust\n",
    "     - These words included days of the week and their abbreviations, month names, and the word “Yelp\"\n",
    "* [depends] Convert characters to lowercase, in order to treat words such as “hello”, “Hello”, and “HELLO” the same.. But Bill != bill\n",
    "* Consider combining misspelled or alternately spelled words to a single representation (e.g. “cool”/”kewl”/”cooool”)\n",
    "* Consider lemmatization (reduce words such as “am”, “are”, and “is” to a common form such as “be”)\n",
    "    - It is the process of grouping together the different inflected forms of a word so they can be analyzed as a single item. For example, “include”, “includes,” and “included” would all be represented as “include”.\n",
    "* create word cloud to examine frequent but useless words\n",
    "* Negations needed to be dealt with\n",
    "  - creating a dictionary of negations to handle negated words\n",
    "* expand contractions, remove links, hashtags, capitalization, and punctuation\n",
    "\n",
    "Finally, Tokenize text by separating it into individual words."
   ]
  },
  {
   "cell_type": "code",
   "execution_count": null,
   "metadata": {
    "ExecuteTime": {
     "end_time": "2020-06-04T13:43:31.572952Z",
     "start_time": "2020-06-04T13:31:39.352Z"
    }
   },
   "outputs": [],
   "source": [
    "df_new['review_text'].str.contains('\\n').sum()"
   ]
  },
  {
   "cell_type": "code",
   "execution_count": null,
   "metadata": {
    "ExecuteTime": {
     "end_time": "2020-06-04T13:43:31.576087Z",
     "start_time": "2020-06-04T13:31:46.803Z"
    }
   },
   "outputs": [],
   "source": [
    "df_new['review_text'][df_new['review_text'].str.contains('\\n')]"
   ]
  },
  {
   "cell_type": "code",
   "execution_count": null,
   "metadata": {
    "ExecuteTime": {
     "end_time": "2020-06-04T13:43:31.579176Z",
     "start_time": "2020-06-04T13:31:52.008Z"
    }
   },
   "outputs": [],
   "source": [
    "df_new['review_text'][df_new['review_text'].str.contains('\\r')]"
   ]
  },
  {
   "cell_type": "code",
   "execution_count": null,
   "metadata": {
    "ExecuteTime": {
     "end_time": "2020-06-04T13:43:31.594845Z",
     "start_time": "2020-06-04T13:32:36.211Z"
    }
   },
   "outputs": [],
   "source": [
    "def standardize_text(df, text_field):\n",
    "    df[text_field] = df[text_field].str.replace(r\"http\\S+\", \"\") # followed by one or more non-whitespaces, for the domain name\n",
    "    # df[text_field] = df[text_field].str.replace(r\"http\", \"\")\n",
    "    df[text_field] = df[text_field].str.replace(r\"@\\S+\", \"\")\n",
    "    df[text_field] = df[text_field].str.replace(r\"&\", \"and\")\n",
    "    df[text_field] = df[text_field].str.replace(r\"#\", \" \")\n",
    "    df[text_field] = df[text_field].str.replace(r\"@\", \"at \")\n",
    "    df[text_field] = df[text_field].str.replace(r\"[^A-Za-z0-9(),!?@\\''\\`\\\"\\_\\n]\", \" \")\n",
    "    df[text_field] = df[text_field].str.replace(r'\\d+', ' ')     \n",
    "    # but want to keep e.g., 18 years old, how would this info be captured?\n",
    "    \n",
    "    df[text_field] = df[text_field].str.replace(r\"\\'\", \" \")\n",
    "    df[text_field] = df[text_field].str.replace(r\"\\\"\", \" \")\n",
    "    df[text_field] = df[text_field].str.replace(r\"\\n\", \" \")\n",
    "    df[text_field] = df[text_field].str.replace(r\"\\r\", \" \")\n",
    "    df[text_field] = df[text_field].str.replace(r\"bc\", \"because\")\n",
    "    df[text_field] = df[text_field].str.replace(r\"b c\", \"because\")\n",
    "    df[text_field] = df[text_field].str.replace(r\"b/c\", \"because\")\n",
    "    df[text_field] = df[text_field].str.replace(r\"dr\\.\", \"dr\")\n",
    "    df[text_field] = df[text_field].str.replace(r\"d\\.r\\.\", \"dr\")\n",
    "    df[text_field] = df[text_field].str.replace(r\"tbh\", \"to be honest\")\n",
    "    df[text_field] = df[text_field].str.lower()    \n",
    "    return df\n",
    "\n"
   ]
  },
  {
   "cell_type": "code",
   "execution_count": null,
   "metadata": {
    "ExecuteTime": {
     "end_time": "2020-06-04T13:43:31.600733Z",
     "start_time": "2020-06-04T13:32:36.946Z"
    }
   },
   "outputs": [],
   "source": [
    "from contractions import CONTRACTION_MAP\n",
    "def expand_contractions(text, contraction_mapping=CONTRACTION_MAP):\n",
    "    \n",
    "    contractions_pattern = re.compile('({})'.format('|'.join(contraction_mapping.keys())), \n",
    "                                      flags=re.IGNORECASE|re.DOTALL)\n",
    "    def expand_match(contraction):\n",
    "        match = contraction.group(0)\n",
    "        first_char = match[0]\n",
    "        expanded_contraction = contraction_mapping.get(match)\\\n",
    "                                if contraction_mapping.get(match)\\\n",
    "                                else contraction_mapping.get(match.lower())                       \n",
    "        expanded_contraction = first_char+expanded_contraction[1:]\n",
    "        return expanded_contraction\n",
    "        \n",
    "    expanded_text = contractions_pattern.sub(expand_match, text)\n",
    "    expanded_text = re.sub(\"'\", \"\", expanded_text)\n",
    "    return expanded_text\n",
    "\n",
    "def clean_text(text):\n",
    "    import re\n",
    "    text = text.lower()\n",
    "    text = re.sub(r\"what's\", \"what is \", text)\n",
    "    # text = re.sub(r\"\\'s\", \" \", text)\n",
    "    text = re.sub(r\"\\'ve\", \" have \", text)\n",
    "    text = re.sub(r\"can't\", \"can not \", text)\n",
    "    text = re.sub(r\"n't\", \" not \", text)\n",
    "    text = re.sub(r\"i'm\", \"i am \", text)\n",
    "    text = re.sub(r\"\\'re\", \" are \", text)\n",
    "    text = re.sub(r\"\\'d\", \" would \", text)\n",
    "    text = re.sub(r\"\\'ll\", \" will \", text)\n",
    "    text = re.sub(r\"hr\", \"hour\", text)\n",
    "    text = re.sub(r\"\\'scuse\", \" excuse \", text)\n",
    "    # text = re.sub('\\W', ' ', text)     # any non-alphanumeric character. Equivalent to [^a-zA-Z0-9_]\n",
    "     #text = re.sub('\\s+', ' ', text)    # all whitespaces\n",
    "    text = text.strip(' ')\n",
    "    return text\n",
    "\n",
    "def clean_text_2(text):\n",
    "    '''Eemove text in square brackets, remove punctuation, remove words containing numbers.'''\n",
    "    text = re.sub(r'\\[.*?\\]', '', text)\n",
    "    text = re.sub(r'[%s]' % re.escape(string.punctuation), '', text)\n",
    "    text = re.sub(r'\\w*\\d\\w*', '', text)\n",
    "    # Remove a sentence if it is only one word long\n",
    "    if len(text) > 2:\n",
    "        return ' '.join(word for word in text.split() if word not in STOPWORDS)\n",
    "    \n",
    "def clean_text_3(text):\n",
    "    \"\"\" Reomve Yelp\"\"\" \n",
    "    text = re.sub(r'yelp(?i)', ' ', text)\n",
    "    text = re.sub(r\"(mon|tues|wednes|thurs|fri|satur|sun)day\", \" \", text)    \n",
    "    return text\n",
    "    \n",
    "import unicodedata\n",
    "def remove_accented_chars(text):\n",
    "    text = unicodedata.normalize('NFKD', text).encode('ascii', 'ignore').decode('utf-8', 'ignore')\n",
    "    return text\n",
    "\n"
   ]
  },
  {
   "cell_type": "code",
   "execution_count": null,
   "metadata": {},
   "outputs": [],
   "source": [
    "df_new = standardize_text(df_new, 'review_text')\n",
    "df_new['review_text'] = df_new['review_text'].map(lambda x : expand_contractions(x))\n",
    "df_new['review_text'] = df_new['review_text'].map(lambda x : clean_text(x))\n",
    "df_new['review_text'] = df_new['review_text'].apply(lambda x: clean_text_2(x))\n",
    "df_new['review_text'] = df_new['review_text'].apply(lambda x: clean_text_3(x))\n",
    "df_new['review_text'] = df_new['review_text'].apply(lambda x: remove_accented_chars(x))\n",
    "\n",
    "for text in df_new.review_text.iloc[:50]:\n",
    "    print(text)\n",
    "    print(\"---\")\n"
   ]
  },
  {
   "cell_type": "code",
   "execution_count": null,
   "metadata": {},
   "outputs": [],
   "source": [
    "df_new['review_text'].iloc[0]"
   ]
  },
  {
   "cell_type": "markdown",
   "metadata": {},
   "source": [
    "## Lemmatization"
   ]
  },
  {
   "cell_type": "code",
   "execution_count": null,
   "metadata": {},
   "outputs": [],
   "source": [
    "# use spaCy for lemmatization\n",
    "import en_core_web_sm\n",
    "nlp = en_core_web_sm.load(disable=['ner', 'parser'])   # don't need, disable to speed up\n",
    "\n",
    "def lemmatizer(text):        \n",
    "    sent = []\n",
    "    doc = nlp(text)\n",
    "    for word in doc:\n",
    "        sent.append(word.lemma_)\n",
    "    return \" \".join(sent)"
   ]
  },
  {
   "cell_type": "code",
   "execution_count": null,
   "metadata": {},
   "outputs": [],
   "source": [
    "df_new['review_text_lem'] = df_new['review_text'].apply(lambda x: lemmatizer(x))\n",
    "df_new['review_text_lem_cleaned'] = df_new['review_text_lem'].str.replace('-PRON-', '')"
   ]
  },
  {
   "cell_type": "code",
   "execution_count": null,
   "metadata": {},
   "outputs": [],
   "source": [
    "# get top 10 most frequent words\n",
    "sentences = [row.split() for row in df_new.review_text_lem_cleaned]\n",
    "word_freq = defaultdict(int)\n",
    "for sent in sentences:\n",
    "    for i in sent:\n",
    "        word_freq[i] += 1\n",
    "        \n",
    "sorted(word_freq, key=word_freq.get, reverse=True)[:10]\n"
   ]
  },
  {
   "cell_type": "code",
   "execution_count": null,
   "metadata": {},
   "outputs": [],
   "source": [
    "# get top 10 most frequent words for lowest reviews\n",
    "sentences = [row.split() for row in df_new.review_text_lem_cleaned[df_new.review_rating < 3]]\n",
    "word_freq = defaultdict(int)\n",
    "for sent in sentences:\n",
    "    for i in sent:\n",
    "        word_freq[i] += 1\n",
    "        \n",
    "sorted(word_freq, key=word_freq.get, reverse=True)[:10]\n"
   ]
  },
  {
   "cell_type": "code",
   "execution_count": null,
   "metadata": {},
   "outputs": [],
   "source": [
    "# get top 10 most frequent words for best reviews\n",
    "sentences = [row.split() for row in df_new.review_text_lem_cleaned[df_new.review_rating > 3]]\n",
    "word_freq = defaultdict(int)\n",
    "for sent in sentences:\n",
    "    for i in sent:\n",
    "        word_freq[i] += 1\n",
    "        \n",
    "sorted(word_freq, key=word_freq.get, reverse=True)[:10]\n"
   ]
  },
  {
   "cell_type": "markdown",
   "metadata": {},
   "source": [
    "## Tokenize"
   ]
  },
  {
   "cell_type": "code",
   "execution_count": null,
   "metadata": {},
   "outputs": [],
   "source": [
    "import re\n",
    "\n",
    "def tokenize(text):\n",
    "    tokens = re.split('\\W+', text)\n",
    "    return tokens\n",
    "\n",
    "df_new['review_text_lem_cleaned_tokenized'] = df_new['review_text_lem_cleaned'].apply(lambda x: tokenize(x.lower()))\n",
    "df_new['review_text_lem_cleaned_tokenized'].head()\n"
   ]
  },
  {
   "cell_type": "code",
   "execution_count": null,
   "metadata": {},
   "outputs": [],
   "source": [
    "for text in df_new.review_text_lem_cleaned_tokenized.iloc[:50]:\n",
    "    print(text)\n",
    "    print(\"---\")"
   ]
  },
  {
   "cell_type": "code",
   "execution_count": null,
   "metadata": {},
   "outputs": [],
   "source": [
    "def remove_stopwords(tokenized_list):\n",
    "    \"\"\"\n",
    "    Done above when cleaning, but just to make sure\n",
    "    \"\"\"\n",
    "    text = [word for word in tokenized_list if word not in STOPWORDS]\n",
    "    return text\n",
    "\n",
    "df_new['review_text_lem_cleaned_tokenized_nostop'] = df_new['review_text_lem_cleaned_tokenized'].apply(lambda x: remove_stopwords(x))\n",
    "df_new['review_text_lem_cleaned_tokenized_nostop'].equals(df_new['review_text_lem_cleaned_tokenized'])"
   ]
  },
  {
   "cell_type": "code",
   "execution_count": null,
   "metadata": {},
   "outputs": [],
   "source": [
    "for text in df_new.review_text_lem_cleaned_tokenized_nostop.iloc[:50]:\n",
    "    print(text)\n",
    "    print(\"---\")"
   ]
  },
  {
   "cell_type": "markdown",
   "metadata": {},
   "source": [
    "## WordCloud"
   ]
  },
  {
   "cell_type": "code",
   "execution_count": null,
   "metadata": {},
   "outputs": [],
   "source": [
    "# Word cloud, more stopwords?\n",
    "from wordcloud import WordCloud\n",
    "text = df_new['review_text_lem_cleaned_tokenized_nostop'].values\n",
    "wordcloud = WordCloud(\n",
    "    width=3000,\n",
    "    height=2000,\n",
    "    background_color='black', max_words=200, \n",
    "    stopwords=STOPWORDS).generate(str(text))\n",
    "fig = plt.figure(\n",
    "    figsize=(40, 30),\n",
    "    facecolor='k',\n",
    "    edgecolor='k')\n",
    "plt.imshow(wordcloud, interpolation='bilinear')\n",
    "plt.axis('off')\n",
    "plt.tight_layout(pad=0)\n",
    "plt.show()"
   ]
  },
  {
   "cell_type": "code",
   "execution_count": null,
   "metadata": {},
   "outputs": [],
   "source": [
    "# Word cloud for bad reviews \n",
    "from wordcloud import WordCloud\n",
    "text = df_new[df_new.review_rating < 3]['review_text_lem_cleaned_tokenized_nostop'].values\n",
    "wordcloud = WordCloud(\n",
    "    width=3000,\n",
    "    height=2000,\n",
    "    background_color='black', max_words=200, \n",
    "    stopwords=STOPWORDS).generate(str(text))\n",
    "fig = plt.figure(\n",
    "    figsize=(40, 30),\n",
    "    facecolor='k',\n",
    "    edgecolor='k')\n",
    "plt.imshow(wordcloud, interpolation='bilinear')\n",
    "plt.axis('off')\n",
    "plt.tight_layout(pad=0)\n",
    "plt.show()"
   ]
  },
  {
   "cell_type": "code",
   "execution_count": null,
   "metadata": {},
   "outputs": [],
   "source": [
    "# Word cloud for good reviews\n",
    "from wordcloud import WordCloud\n",
    "text = df_new[df_new.review_rating > 3]['review_text_lem_cleaned_tokenized_nostop'].values\n",
    "wordcloud = WordCloud(\n",
    "    width=3000,\n",
    "    height=2000,\n",
    "    background_color='black', max_words=200, \n",
    "    stopwords=STOPWORDS).generate(str(text))\n",
    "fig = plt.figure(\n",
    "    figsize=(40, 30),\n",
    "    facecolor='k',\n",
    "    edgecolor='k')\n",
    "plt.imshow(wordcloud, interpolation='bilinear')\n",
    "plt.axis('off')\n",
    "plt.tight_layout(pad=0)\n",
    "plt.show()"
   ]
  },
  {
   "cell_type": "markdown",
   "metadata": {},
   "source": [
    "## top words in rating=5 and rating=1s"
   ]
  },
  {
   "cell_type": "code",
   "execution_count": null,
   "metadata": {},
   "outputs": [],
   "source": [
    "df_05 = df_new.loc[df_new['review_rating'] == 5]\n",
    "df_01 = df_new.loc[df_new['review_rating'] == 1]"
   ]
  },
  {
   "cell_type": "code",
   "execution_count": null,
   "metadata": {},
   "outputs": [],
   "source": [
    "top_wrd5 = df_05['review_text_lem_cleaned'].str.split(\n",
    "    expand=True).stack().value_counts()\n",
    "top_wrd5 = pd.DataFrame(top_wrd5)\n",
    "top_wrd5['Index'] = top_wrd5.index\n",
    "top_wrd5.columns = [\"y\", \"x\"]\n",
    "top_wrd5 = top_wrd5.head(10)\n",
    "\n",
    "top_wrd1 = df_01['review_text_lem_cleaned'].str.split(\n",
    "    expand=True).stack().value_counts()\n",
    "top_wrd1 = pd.DataFrame(top_wrd1)\n",
    "top_wrd1['Index'] = top_wrd1.index\n",
    "top_wrd1.columns = [\"y\", \"x\"]\n",
    "top_wrd1 = top_wrd1.head(10)\n",
    "#[word for word in data2['tokens'] if word not in stop_words]\n",
    "\n",
    "p5 = top_wrd5.plot.bar(x=\"x\", y=\"y\")\n",
    "p1 = top_wrd1.plot.bar(x=\"x\", y=\"y\")"
   ]
  },
  {
   "cell_type": "markdown",
   "metadata": {},
   "source": [
    "# Topic modeling\n",
    "Identify recurrent themes or topics.\n",
    "\n",
    "![](https://github.com/xiey1/OncoMatch/raw/master/images/Word_embedding.png)\n",
    "The embedding performance is plotted as the distribution of cosine similarity score rankings between each abstract and its corresponding title (better performance corresponds to higher ranking and percentile closer to 0)."
   ]
  },
  {
   "cell_type": "markdown",
   "metadata": {},
   "source": [
    "# Sentence similarities -- Word embedding models\n",
    "\n",
    "Skipping basic models becuase Bag-of-words models are surprisingly effective, but have several weaknesses.\n",
    "\n",
    "    1. First, they lose all information about word order: “John likes Mary” and “Mary likes John” correspond to identical vectors. There is a solution: bag of n-grams models consider word phrases of length n to represent documents as fixed-length vectors to capture local word order but suffer from data sparsity and high dimensionality.\n",
    "\n",
    "    2. Second, the model does not attempt to learn the meaning of the underlying words, and as a consequence, the distance between vectors doesn’t always reflect the difference in meaning. The Word2Vec model addresses this second problem.\n",
    "\n",
    "\n",
    "* Static vs Dynamic\n",
    "    * Static:\n",
    "        * word has same vector regardless of context \n",
    "        * Look at word from left to right (unidirectional) \n",
    "        * e.g., GloVe (Stanford, 2014), FastText (FB, 2015)\n",
    "    * Dynamic: \n",
    "        * Understand a word as part of the sentence\n",
    "        * Take into account context\n",
    "        * Different vectors for the same word\n",
    "        * Look at word from left to right and also opposite direction \n",
    "            * So word doesn’t depend on the sequence, but get the context in a sentence\n",
    "        * e.g., Siri, google translation \n",
    "        * e.g., ELMo (UW, 2018), BERT (Google 2018), OpenAI GPT, OpenAI GPT-2\n",
    "        \n",
    "* Two architectures: \n",
    "    * Common bag of word (CBOW)\n",
    "        * Use surrounding words (context) to predict target word\n",
    "        * Cat & dog would be similar —> not so accurate\n",
    "    * Skip gram\n",
    "        * Use target word to predict context\n",
    "        * Weights close words more heavily\n",
    "        * Cat and dog would be different —> more fined-tuned vectors, but takes longer time\n",
    "    * CBOW does better on small data sets, skip-gram better on large ones  \n",
    "    \n",
    "\n",
    "If I want to calc a vector for the entire paragraph/user input, we could:\n",
    "    1. average the vectors for each word in the review\n",
    "    2. use paragraphh vector (`Doc2Vec`)\n",
    "    ,...... https://radimrehurek.com/gensim/auto_examples/tutorials/run_doc2vec_lee.html#sphx-glr-auto-examples-tutorials-run-doc2vec-lee-py\n",
    "    \n",
    "Doc2Vec:\n",
    "- Unlike Word2Vec, a Doc2Vec model provides a vectorised representation of a group of words taken collectively as a single unit. It is not a simple average of the word vectors of the words in the sentence.\n",
    "    \n",
    "To try for this project: Word2Vec --> Doc2Vec --> BERT --> GenSen"
   ]
  },
  {
   "cell_type": "markdown",
   "metadata": {},
   "source": [
    "## w2v w/ skip-gram :\n",
    "\n",
    "The basic idea of Word2vec is that instead of representing words as one-hot encoding (countvectorizer / tfidfvectorizer) in high dimensional space, we represent words in dense low dimensional space in a way that similar words get similar word vectors, so they are mapped to nearby points.\n",
    "\n",
    "Word2vec is not deep neural network, it turns text into a numeric form that deep neural network can process as input.\n",
    "\n",
    "When we use Tensorflow / Keras or Pytorch to do this, they have a special layer for this process called “Embedding layer”. So, we are not going to do math by ourselves, we only need to pass one-hot encoded vectors, the “Embedding layer” does all the dirty works.\n",
    "\n",
    "Word2Vec is a technique to find continuous embeddings for words. It learns from reading massive amounts of text and memorizing which words tend to appear in similar contexts. After being trained on enough data, it generates a 300-dimension vector for each word in a vocabulary, with words of similar meaning being closer to each other.\n",
    "\n",
    "\n",
    "Trained on 100 billion words from google news data, 300 dimensions\n",
    "![](https://miro.medium.com/max/1400/1*9XxSnprkyh2I7Jts4lpxAg.png)\n",
    "Source: http://mccormickml.com/2016/04/19/word2vec-tutorial-the-skip-gram-model/\n",
    "https://towardsdatascience.com/understanding-word2vec-embedding-in-practice-3e9b8985953"
   ]
  },
  {
   "cell_type": "code",
   "execution_count": null,
   "metadata": {
    "ExecuteTime": {
     "end_time": "2020-06-04T13:43:31.616056Z",
     "start_time": "2020-06-04T13:38:51.501Z"
    }
   },
   "outputs": [],
   "source": [
    "def get_average_word2vec(tokens_list, vector, generate_missing=False, k=300):\n",
    "    \"\"\"\n",
    "    calc a vector for the entire paragraph/user input by averaging \n",
    "    vectors for each word in the entry/paragraph.\n",
    "    \n",
    "    \"\"\"\n",
    "    if len(tokens_list) < 1:\n",
    "        return np.zeros(k)\n",
    "    if generate_missing:\n",
    "        vectorized = [vector[word] if word in vector else np.random.rand(\n",
    "            k) for word in tokens_list]\n",
    "    else:\n",
    "        vectorized = [vector[word] if word in vector else np.zeros(\n",
    "            k) for word in tokens_list]\n",
    "    length = len(vectorized)\n",
    "    summed = np.sum(vectorized, axis=0)\n",
    "    averaged = np.divide(summed, length)\n",
    "    return averaged\n",
    "\n",
    "\n",
    "def get_word2vec_embeddings(vectors, df_list_tokens, generate_missing=False, k=300):\n",
    "    embeddings = df_list_tokens.apply(lambda x: get_average_word2vec(x, vectors,\n",
    "                                                             generate_missing=generate_missing,\n",
    "                                                                    k=k))\n",
    "    return list(embeddings)"
   ]
  },
  {
   "cell_type": "markdown",
   "metadata": {},
   "source": [
    "### Train on own data\n",
    "\n",
    "Training your own word vectors may be the best approach for a given NLP problem.\n",
    "\n",
    "But it can take a long time, a fast computer with a lot of RAM and disk space, and perhaps some expertise in finessing the input data and training algorithm."
   ]
  },
  {
   "cell_type": "markdown",
   "metadata": {},
   "source": [
    "- min_count: Minimum number of occurrences of a word in the corpus to be included in the model. The higher the number, the less words we have in our corpus.\n",
    "- window: The maximum distance between the current and predicted word within a sentence.\n",
    "- size: The dimensionality of the feature vectors.\n",
    "- iter: epoch"
   ]
  },
  {
   "cell_type": "code",
   "execution_count": null,
   "metadata": {},
   "outputs": [],
   "source": [
    "# save all the cleaned reviews, tokens joined by whitespaces in a filename \"scraped_data_nodupl_biz/reviews_corpus.cor\"\n",
    "df_new.to_csv('scraped_data_nodupl_biz/SF_reviews_corpus.cor', ignore_index=True, \n",
    "              index=False)"
   ]
  },
  {
   "cell_type": "code",
   "execution_count": null,
   "metadata": {},
   "outputs": [],
   "source": [
    "\"\"\"\n",
    "Helper func to handle large corpus line by line\n",
    "\n",
    "If we wanted to do any custom preprocessing, \n",
    "e.g. decode a non-standard encoding, lowercase, remove numbers, extract named entities...\n",
    "All of this can be done inside the MyCorpus iterator and word2vec doesn’t need to know. \n",
    "All that is required is that the input yields one sentence (list of utf8 words) after another.\n",
    "\n",
    "\"\"\"\n",
    "\n",
    "from gensim.test.utils import datapath\n",
    "from gensim import utils\n",
    "\n",
    "class MyCorpus(object):\n",
    "    \"\"\"An interator that yields sentences (lists of str).\"\"\"\n",
    "\n",
    "    def __iter__(self, fname):\n",
    "        corpus_path = datapath(fname)\n",
    "        for line in open(corpus_path):\n",
    "            # assume there's one document/review per line, where the pre-processed tokens separated by whitespace\n",
    "            yield utils.simple_preprocess(line)            "
   ]
  },
  {
   "cell_type": "code",
   "execution_count": null,
   "metadata": {},
   "outputs": [],
   "source": []
  },
  {
   "cell_type": "code",
   "execution_count": null,
   "metadata": {},
   "outputs": [],
   "source": []
  },
  {
   "cell_type": "code",
   "execution_count": null,
   "metadata": {},
   "outputs": [],
   "source": []
  },
  {
   "cell_type": "markdown",
   "metadata": {},
   "source": [
    "# Analysis/Modeling\n",
    "Do work here"
   ]
  },
  {
   "cell_type": "code",
   "execution_count": null,
   "metadata": {},
   "outputs": [],
   "source": []
  },
  {
   "cell_type": "code",
   "execution_count": null,
   "metadata": {},
   "outputs": [],
   "source": []
  },
  {
   "cell_type": "code",
   "execution_count": null,
   "metadata": {},
   "outputs": [],
   "source": []
  },
  {
   "cell_type": "code",
   "execution_count": null,
   "metadata": {},
   "outputs": [],
   "source": []
  },
  {
   "cell_type": "code",
   "execution_count": null,
   "metadata": {},
   "outputs": [],
   "source": []
  },
  {
   "cell_type": "code",
   "execution_count": null,
   "metadata": {},
   "outputs": [],
   "source": []
  },
  {
   "cell_type": "markdown",
   "metadata": {},
   "source": [
    "# Results\n",
    "Show graphs and stats here"
   ]
  },
  {
   "cell_type": "markdown",
   "metadata": {},
   "source": [
    "# Conclusions and Next Steps\n",
    "Summarize findings here"
   ]
  },
  {
   "cell_type": "markdown",
   "metadata": {
    "toc": true
   },
   "source": [
    "<h1>Table of Contents<span class=\"tocSkip\"></span></h1>\n",
    "<div class=\"toc\"><ul class=\"toc-item\"><li><span><a href=\"#Introduction\" data-toc-modified-id=\"Introduction-1\"><span class=\"toc-item-num\">1&nbsp;&nbsp;</span>Introduction</a></span><ul class=\"toc-item\"><li><ul class=\"toc-item\"><li><span><a href=\"#Imports\" data-toc-modified-id=\"Imports-1.0.1\"><span class=\"toc-item-num\">1.0.1&nbsp;&nbsp;</span>Imports</a></span></li><li><span><a href=\"#Remove-reviews-only-mention-grooming-or-product-sales,-but-not-boarding/hotel/kennel-type-services\" data-toc-modified-id=\"Remove-reviews-only-mention-grooming-or-product-sales,-but-not-boarding/hotel/kennel-type-services-1.0.2\"><span class=\"toc-item-num\">1.0.2&nbsp;&nbsp;</span>Remove reviews only mention grooming or product sales, but not boarding/hotel/kennel-type services</a></span></li></ul></li><li><span><a href=\"#Sanity-check-to-make-sure-no-reviews-are-explicity-on-groom-only\" data-toc-modified-id=\"Sanity-check-to-make-sure-no-reviews-are-explicity-on-groom-only-1.1\"><span class=\"toc-item-num\">1.1&nbsp;&nbsp;</span>Sanity check to make sure no reviews are explicity on groom only</a></span></li></ul></li><li><span><a href=\"#NLP-cleaning-for-model\" data-toc-modified-id=\"NLP-cleaning-for-model-2\"><span class=\"toc-item-num\">2&nbsp;&nbsp;</span>NLP cleaning for model</a></span><ul class=\"toc-item\"><li><span><a href=\"#Lemmatization\" data-toc-modified-id=\"Lemmatization-2.1\"><span class=\"toc-item-num\">2.1&nbsp;&nbsp;</span>Lemmatization</a></span></li><li><span><a href=\"#Tokenize\" data-toc-modified-id=\"Tokenize-2.2\"><span class=\"toc-item-num\">2.2&nbsp;&nbsp;</span>Tokenize</a></span></li><li><span><a href=\"#WordCloud\" data-toc-modified-id=\"WordCloud-2.3\"><span class=\"toc-item-num\">2.3&nbsp;&nbsp;</span>WordCloud</a></span></li><li><span><a href=\"#top-words-in-rating=5-and-rating=1s\" data-toc-modified-id=\"top-words-in-rating=5-and-rating=1s-2.4\"><span class=\"toc-item-num\">2.4&nbsp;&nbsp;</span>top words in rating=5 and rating=1s</a></span></li></ul></li><li><span><a href=\"#Topic-modeling\" data-toc-modified-id=\"Topic-modeling-3\"><span class=\"toc-item-num\">3&nbsp;&nbsp;</span>Topic modeling</a></span></li><li><span><a href=\"#Sentence-similarities----Word-embedding-models\" data-toc-modified-id=\"Sentence-similarities----Word-embedding-models-4\"><span class=\"toc-item-num\">4&nbsp;&nbsp;</span>Sentence similarities -- Word embedding models</a></span><ul class=\"toc-item\"><li><span><a href=\"#w2v-w/-skip-gram-:\" data-toc-modified-id=\"w2v-w/-skip-gram-:-4.1\"><span class=\"toc-item-num\">4.1&nbsp;&nbsp;</span>w2v w/ skip-gram :</a></span><ul class=\"toc-item\"><li><span><a href=\"#Train-on-own-data\" data-toc-modified-id=\"Train-on-own-data-4.1.1\"><span class=\"toc-item-num\">4.1.1&nbsp;&nbsp;</span>Train on own data</a></span></li></ul></li></ul></li><li><span><a href=\"#Analysis/Modeling\" data-toc-modified-id=\"Analysis/Modeling-5\"><span class=\"toc-item-num\">5&nbsp;&nbsp;</span>Analysis/Modeling</a></span></li><li><span><a href=\"#Results\" data-toc-modified-id=\"Results-6\"><span class=\"toc-item-num\">6&nbsp;&nbsp;</span>Results</a></span></li><li><span><a href=\"#Conclusions-and-Next-Steps\" data-toc-modified-id=\"Conclusions-and-Next-Steps-7\"><span class=\"toc-item-num\">7&nbsp;&nbsp;</span>Conclusions and Next Steps</a></span></li></ul></div>"
   ]
  },
  {
   "cell_type": "code",
   "execution_count": null,
   "metadata": {},
   "outputs": [],
   "source": []
  }
 ],
 "metadata": {
  "hide_input": false,
  "kernelspec": {
   "display_name": "Python 3",
   "language": "python",
   "name": "python3"
  },
  "language_info": {
   "codemirror_mode": {
    "name": "ipython",
    "version": 3
   },
   "file_extension": ".py",
   "mimetype": "text/x-python",
   "name": "python",
   "nbconvert_exporter": "python",
   "pygments_lexer": "ipython3",
   "version": "3.7.6"
  },
  "toc": {
   "base_numbering": 1,
   "nav_menu": {},
   "number_sections": true,
   "sideBar": true,
   "skip_h1_title": false,
   "title_cell": "Table of Contents",
   "title_sidebar": "Contents",
   "toc_cell": true,
   "toc_position": {
    "height": "calc(100% - 180px)",
    "left": "10px",
    "top": "150px",
    "width": "232.391px"
   },
   "toc_section_display": true,
   "toc_window_display": true
  },
  "varInspector": {
   "cols": {
    "lenName": 16,
    "lenType": 16,
    "lenVar": 40
   },
   "kernels_config": {
    "python": {
     "delete_cmd_postfix": "",
     "delete_cmd_prefix": "del ",
     "library": "var_list.py",
     "varRefreshCmd": "print(var_dic_list())"
    },
    "r": {
     "delete_cmd_postfix": ") ",
     "delete_cmd_prefix": "rm(",
     "library": "var_list.r",
     "varRefreshCmd": "cat(var_dic_list()) "
    }
   },
   "types_to_exclude": [
    "module",
    "function",
    "builtin_function_or_method",
    "instance",
    "_Feature"
   ],
   "window_display": false
  }
 },
 "nbformat": 4,
 "nbformat_minor": 4
}
